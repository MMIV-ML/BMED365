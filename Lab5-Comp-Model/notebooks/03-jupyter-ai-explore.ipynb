{
 "cells": [
  {
   "cell_type": "markdown",
   "metadata": {},
   "source": [
    "# Jupyter AI explore\n",
    "\n",
    "`03-jupyter-ai-explore.ipynb` (using the `bmed365ai` environment)\n",
    "\n",
    "Updated: _2024-02-19_ \n"
   ]
  },
  {
   "cell_type": "markdown",
   "metadata": {},
   "source": [
    "#### Jupyter AI\n",
    "\n",
    "https://github.com/jupyterlab/jupyter-ai\n",
    "\n",
    "Welcome to Jupyter AI, which brings generative AI to Jupyter. Jupyter AI provides a user-friendly and powerful way to explore generative AI models in notebooks and improve your productivity in JupyterLab and the Jupyter Notebook. More specifically, Jupyter AI offers:\n",
    "\n",
    "- An `%%ai` magic that turns the Jupyter notebook into a reproducible generative AI playground. This works anywhere the IPython kernel runs (JupyterLab, Jupyter Notebook, Google Colab, VSCode, etc.).\n",
    "- A native chat UI in JupyterLab that enables you to work with generative AI as a conversational assistant.\n",
    "- Support for a wide range of generative model providers and models (AI21, Anthropic, Cohere, Hugging Face, OpenAI, SageMaker, etc.).\n",
    "\n",
    "Documentation is available on [ReadTheDocs](https://jupyter-ai.readthedocs.io/en/latest).\n",
    "\n",
    "```bash\n",
    "\n",
    "$ conda create -n bmed365ai python=3.11\n",
    "$ conda activate bmed365ai\n",
    "$ pip install jupyter_ai\n",
    "$ pip install openai\n",
    "OPENAI_API_KEY=your-api-key-here jupyter lab\n",
    "# https://platform.openai.com/account/api-keys\n",
    "```"
   ]
  },
  {
   "cell_type": "code",
   "execution_count": 12,
   "metadata": {},
   "outputs": [
    {
     "name": "stdout",
     "output_type": "stream",
     "text": [
      "The jupyter_ai extension is already loaded. To reload it, use:\n",
      "  %reload_ext jupyter_ai\n"
     ]
    }
   ],
   "source": [
    "%load_ext jupyter_ai"
   ]
  },
  {
   "cell_type": "code",
   "execution_count": 13,
   "metadata": {},
   "outputs": [
    {
     "name": "stdout",
     "output_type": "stream",
     "text": [
      "Usage: %%ai [OPTIONS] MODEL_ID\n",
      "\n",
      "  Invokes a language model identified by MODEL_ID, with the prompt being\n",
      "  contained in all lines after the first. Both local model IDs and global\n",
      "  model IDs (with the provider ID explicitly prefixed, followed by a colon)\n",
      "  are accepted.\n",
      "\n",
      "  To view available language models, please run `%ai list`.\n",
      "\n",
      "Options:\n",
      "  -f, --format [code|html|image|json|markdown|math|md|text]\n",
      "                                  IPython display to use when rendering\n",
      "                                  output. [default=\"markdown\"]\n",
      "  -n, --region-name TEXT          AWS region name, e.g. 'us-east-1'. Required\n",
      "                                  for SageMaker provider; does nothing with\n",
      "                                  other providers.\n",
      "  -q, --request-schema TEXT       The JSON object the endpoint expects, with\n",
      "                                  the prompt being substituted into any value\n",
      "                                  that matches the string literal '<prompt>'.\n",
      "                                  Required for SageMaker provider; does\n",
      "                                  nothing with other providers.\n",
      "  -p, --response-path TEXT        A JSONPath string that retrieves the\n",
      "                                  language model's output from the endpoint's\n",
      "                                  JSON response. Required for SageMaker\n",
      "                                  provider; does nothing with other providers.\n",
      "  -m, --model-parameters TEXT     A JSON value that specifies extra values\n",
      "                                  that will be passed to the model. The\n",
      "                                  accepted value parsed to a dict, unpacked\n",
      "                                  and passed as-is to the provider class.\n",
      "  --help                          Show this message and exit.\n",
      "------------------------------------------------------------------------------\n",
      "Usage: %ai [OPTIONS] COMMAND [ARGS]...\n",
      "\n",
      "  Invokes a subcommand.\n",
      "\n",
      "Options:\n",
      "  --help  Show this message and exit.\n",
      "\n",
      "Commands:\n",
      "  delete    Delete an alias. See `%ai delete --help` for options.\n",
      "  error     Explains the most recent error.\n",
      "  help      Show this message and exit.\n",
      "  list      List language models. See `%ai list --help` for options.\n",
      "  register  Register a new alias. See `%ai register --help` for options.\n",
      "  update    Update the target of an alias. See `%ai update --help` for\n",
      "            options.\n",
      "\n"
     ]
    }
   ],
   "source": [
    "%ai help"
   ]
  },
  {
   "cell_type": "code",
   "execution_count": 14,
   "metadata": {},
   "outputs": [
    {
     "data": {
      "text/markdown": [
       "| Provider | Environment variable | Set? | Models |\n",
       "|----------|----------------------|------|--------|\n",
       "| `ai21` | `AI21_API_KEY` | <abbr title=\"You have not set this environment variable, so you cannot use this provider's models.\">❌</abbr> | `ai21:j1-large`, `ai21:j1-grande`, `ai21:j1-jumbo`, `ai21:j1-grande-instruct`, `ai21:j2-large`, `ai21:j2-grande`, `ai21:j2-jumbo`, `ai21:j2-grande-instruct`, `ai21:j2-jumbo-instruct` |\n",
       "| `bedrock` | Not applicable. | <abbr title=\"Not applicable\">N/A</abbr> | `bedrock:amazon.titan-text-express-v1`, `bedrock:ai21.j2-ultra-v1`, `bedrock:ai21.j2-mid-v1`, `bedrock:cohere.command-light-text-v14`, `bedrock:cohere.command-text-v14`, `bedrock:meta.llama2-13b-chat-v1`, `bedrock:meta.llama2-70b-chat-v1` |\n",
       "| `bedrock-chat` | Not applicable. | <abbr title=\"Not applicable\">N/A</abbr> | `bedrock-chat:anthropic.claude-v1`, `bedrock-chat:anthropic.claude-v2`, `bedrock-chat:anthropic.claude-v2:1`, `bedrock-chat:anthropic.claude-instant-v1` |\n",
       "| `anthropic` | `ANTHROPIC_API_KEY` | <abbr title=\"You have not set this environment variable, so you cannot use this provider's models.\">❌</abbr> | `anthropic:claude-v1`, `anthropic:claude-v1.0`, `anthropic:claude-v1.2`, `anthropic:claude-2`, `anthropic:claude-2.0`, `anthropic:claude-instant-v1`, `anthropic:claude-instant-v1.0`, `anthropic:claude-instant-v1.2` |\n",
       "| `anthropic-chat` | `ANTHROPIC_API_KEY` | <abbr title=\"You have not set this environment variable, so you cannot use this provider's models.\">❌</abbr> | `anthropic-chat:claude-v1`, `anthropic-chat:claude-v1.0`, `anthropic-chat:claude-v1.2`, `anthropic-chat:claude-2`, `anthropic-chat:claude-2.0`, `anthropic-chat:claude-instant-v1`, `anthropic-chat:claude-instant-v1.0`, `anthropic-chat:claude-instant-v1.2` |\n",
       "| `azure-chat-openai` | `OPENAI_API_KEY` | <abbr title=\"You have set this environment variable, so you can use this provider's models.\">✅</abbr> | This provider does not define a list of models. |\n",
       "| `cohere` | `COHERE_API_KEY` | <abbr title=\"You have not set this environment variable, so you cannot use this provider's models.\">❌</abbr> | `cohere:command`, `cohere:command-nightly`, `cohere:command-light`, `cohere:command-light-nightly` |\n",
       "| `gpt4all` | Not applicable. | <abbr title=\"Not applicable\">N/A</abbr> | `gpt4all:ggml-gpt4all-j-v1.2-jazzy`, `gpt4all:ggml-gpt4all-j-v1.3-groovy`, `gpt4all:ggml-gpt4all-l13b-snoozy`, `gpt4all:mistral-7b-openorca.Q4_0`, `gpt4all:mistral-7b-instruct-v0.1.Q4_0`, `gpt4all:gpt4all-falcon-q4_0`, `gpt4all:wizardlm-13b-v1.2.Q4_0`, `gpt4all:nous-hermes-llama2-13b.Q4_0`, `gpt4all:gpt4all-13b-snoozy-q4_0`, `gpt4all:mpt-7b-chat-merges-q4_0`, `gpt4all:orca-mini-3b-gguf2-q4_0`, `gpt4all:starcoder-q4_0`, `gpt4all:rift-coder-v0-7b-q4_0`, `gpt4all:em_german_mistral_v01.Q4_0` |\n",
       "| `huggingface_hub` | `HUGGINGFACEHUB_API_TOKEN` | <abbr title=\"You have not set this environment variable, so you cannot use this provider's models.\">❌</abbr> | See [https://huggingface.co/models](https://huggingface.co/models) for a list of models. Pass a model's repository ID as the model ID; for example, `huggingface_hub:ExampleOwner/example-model`. |\n",
       "| `openai` | `OPENAI_API_KEY` | <abbr title=\"You have set this environment variable, so you can use this provider's models.\">✅</abbr> | `openai:text-davinci-003`, `openai:text-davinci-002`, `openai:text-curie-001`, `openai:text-babbage-001`, `openai:text-ada-001`, `openai:davinci`, `openai:curie`, `openai:babbage`, `openai:ada` |\n",
       "| `openai-chat` | `OPENAI_API_KEY` | <abbr title=\"You have set this environment variable, so you can use this provider's models.\">✅</abbr> | `openai-chat:gpt-3.5-turbo`, `openai-chat:gpt-3.5-turbo-16k`, `openai-chat:gpt-3.5-turbo-0301`, `openai-chat:gpt-3.5-turbo-0613`, `openai-chat:gpt-3.5-turbo-16k-0613`, `openai-chat:gpt-4`, `openai-chat:gpt-4-0314`, `openai-chat:gpt-4-0613`, `openai-chat:gpt-4-32k`, `openai-chat:gpt-4-32k-0314`, `openai-chat:gpt-4-32k-0613`, `openai-chat:gpt-4-1106-preview` |\n",
       "| `qianfan` | `QIANFAN_AK`, `QIANFAN_SK` | <abbr title=\"You have not set all of these environment variables, so you cannot use this provider's models.\">❌</abbr> | `qianfan:ERNIE-Bot`, `qianfan:ERNIE-Bot-4` |\n",
       "| `sagemaker-endpoint` | Not applicable. | <abbr title=\"Not applicable\">N/A</abbr> | Specify an endpoint name as the model ID. In addition, you must specify a region name, request schema, and response path. For more information, see the documentation about [SageMaker endpoints deployment](https://docs.aws.amazon.com/sagemaker/latest/dg/realtime-endpoints-deployment.html) and about [using magic commands with SageMaker endpoints](https://jupyter-ai.readthedocs.io/en/latest/users/index.html#using-magic-commands-with-sagemaker-endpoints). |\n",
       "\n",
       "Aliases and custom commands:\n",
       "\n",
       "| Name | Target |\n",
       "|------|--------|\n",
       "| `gpt2` | `huggingface_hub:gpt2` |\n",
       "| `gpt3` | `openai:text-davinci-003` |\n",
       "| `chatgpt` | `openai-chat:gpt-3.5-turbo` |\n",
       "| `gpt4` | `openai-chat:gpt-4` |\n",
       "| `ernie-bot` | `qianfan:ERNIE-Bot` |\n",
       "| `ernie-bot-4` | `qianfan:ERNIE-Bot-4` |\n",
       "| `titan` | `bedrock:amazon.titan-tg1-large` |\n"
      ],
      "text/plain": [
       "ai21\n",
       "Requires environment variable: AI21_API_KEY (not set)\n",
       "* ai21:j1-large\n",
       "* ai21:j1-grande\n",
       "* ai21:j1-jumbo\n",
       "* ai21:j1-grande-instruct\n",
       "* ai21:j2-large\n",
       "* ai21:j2-grande\n",
       "* ai21:j2-jumbo\n",
       "* ai21:j2-grande-instruct\n",
       "* ai21:j2-jumbo-instruct\n",
       "\n",
       "bedrock\n",
       "* bedrock:amazon.titan-text-express-v1\n",
       "* bedrock:ai21.j2-ultra-v1\n",
       "* bedrock:ai21.j2-mid-v1\n",
       "* bedrock:cohere.command-light-text-v14\n",
       "* bedrock:cohere.command-text-v14\n",
       "* bedrock:meta.llama2-13b-chat-v1\n",
       "* bedrock:meta.llama2-70b-chat-v1\n",
       "\n",
       "bedrock-chat\n",
       "* bedrock-chat:anthropic.claude-v1\n",
       "* bedrock-chat:anthropic.claude-v2\n",
       "* bedrock-chat:anthropic.claude-v2:1\n",
       "* bedrock-chat:anthropic.claude-instant-v1\n",
       "\n",
       "anthropic\n",
       "Requires environment variable: ANTHROPIC_API_KEY (not set)\n",
       "* anthropic:claude-v1\n",
       "* anthropic:claude-v1.0\n",
       "* anthropic:claude-v1.2\n",
       "* anthropic:claude-2\n",
       "* anthropic:claude-2.0\n",
       "* anthropic:claude-instant-v1\n",
       "* anthropic:claude-instant-v1.0\n",
       "* anthropic:claude-instant-v1.2\n",
       "\n",
       "anthropic-chat\n",
       "Requires environment variable: ANTHROPIC_API_KEY (not set)\n",
       "* anthropic-chat:claude-v1\n",
       "* anthropic-chat:claude-v1.0\n",
       "* anthropic-chat:claude-v1.2\n",
       "* anthropic-chat:claude-2\n",
       "* anthropic-chat:claude-2.0\n",
       "* anthropic-chat:claude-instant-v1\n",
       "* anthropic-chat:claude-instant-v1.0\n",
       "* anthropic-chat:claude-instant-v1.2\n",
       "\n",
       "azure-chat-openai\n",
       "Requires environment variable: OPENAI_API_KEY (set)\n",
       "* This provider does not define a list of models.\n",
       "\n",
       "cohere\n",
       "Requires environment variable: COHERE_API_KEY (not set)\n",
       "* cohere:command\n",
       "* cohere:command-nightly\n",
       "* cohere:command-light\n",
       "* cohere:command-light-nightly\n",
       "\n",
       "gpt4all\n",
       "* gpt4all:ggml-gpt4all-j-v1.2-jazzy\n",
       "* gpt4all:ggml-gpt4all-j-v1.3-groovy\n",
       "* gpt4all:ggml-gpt4all-l13b-snoozy\n",
       "* gpt4all:mistral-7b-openorca.Q4_0\n",
       "* gpt4all:mistral-7b-instruct-v0.1.Q4_0\n",
       "* gpt4all:gpt4all-falcon-q4_0\n",
       "* gpt4all:wizardlm-13b-v1.2.Q4_0\n",
       "* gpt4all:nous-hermes-llama2-13b.Q4_0\n",
       "* gpt4all:gpt4all-13b-snoozy-q4_0\n",
       "* gpt4all:mpt-7b-chat-merges-q4_0\n",
       "* gpt4all:orca-mini-3b-gguf2-q4_0\n",
       "* gpt4all:starcoder-q4_0\n",
       "* gpt4all:rift-coder-v0-7b-q4_0\n",
       "* gpt4all:em_german_mistral_v01.Q4_0\n",
       "\n",
       "huggingface_hub\n",
       "Requires environment variable: HUGGINGFACEHUB_API_TOKEN (not set)\n",
       "* See [https://huggingface.co/models](https://huggingface.co/models) for a list of models. Pass a model's repository ID as the model ID; for example, `huggingface_hub:ExampleOwner/example-model`.\n",
       "\n",
       "openai\n",
       "Requires environment variable: OPENAI_API_KEY (set)\n",
       "* openai:text-davinci-003\n",
       "* openai:text-davinci-002\n",
       "* openai:text-curie-001\n",
       "* openai:text-babbage-001\n",
       "* openai:text-ada-001\n",
       "* openai:davinci\n",
       "* openai:curie\n",
       "* openai:babbage\n",
       "* openai:ada\n",
       "\n",
       "openai-chat\n",
       "Requires environment variable: OPENAI_API_KEY (set)\n",
       "* openai-chat:gpt-3.5-turbo\n",
       "* openai-chat:gpt-3.5-turbo-16k\n",
       "* openai-chat:gpt-3.5-turbo-0301\n",
       "* openai-chat:gpt-3.5-turbo-0613\n",
       "* openai-chat:gpt-3.5-turbo-16k-0613\n",
       "* openai-chat:gpt-4\n",
       "* openai-chat:gpt-4-0314\n",
       "* openai-chat:gpt-4-0613\n",
       "* openai-chat:gpt-4-32k\n",
       "* openai-chat:gpt-4-32k-0314\n",
       "* openai-chat:gpt-4-32k-0613\n",
       "* openai-chat:gpt-4-1106-preview\n",
       "\n",
       "qianfan\n",
       "Requires environment variables: QIANFAN_AK (not set), QIANFAN_SK (not set)\n",
       "* qianfan:ERNIE-Bot\n",
       "* qianfan:ERNIE-Bot-4\n",
       "\n",
       "sagemaker-endpoint\n",
       "* Specify an endpoint name as the model ID. In addition, you must specify a region name, request schema, and response path. For more information, see the documentation about [SageMaker endpoints deployment](https://docs.aws.amazon.com/sagemaker/latest/dg/realtime-endpoints-deployment.html) and about [using magic commands with SageMaker endpoints](https://jupyter-ai.readthedocs.io/en/latest/users/index.html#using-magic-commands-with-sagemaker-endpoints).\n",
       "\n",
       "\n",
       "Aliases and custom commands:\n",
       "gpt2 - huggingface_hub:gpt2\n",
       "gpt3 - openai:text-davinci-003\n",
       "chatgpt - openai-chat:gpt-3.5-turbo\n",
       "gpt4 - openai-chat:gpt-4\n",
       "ernie-bot - qianfan:ERNIE-Bot\n",
       "ernie-bot-4 - qianfan:ERNIE-Bot-4\n",
       "titan - bedrock:amazon.titan-tg1-large\n"
      ]
     },
     "execution_count": 14,
     "metadata": {},
     "output_type": "execute_result"
    }
   ],
   "source": [
    "%ai list"
   ]
  },
  {
   "cell_type": "markdown",
   "metadata": {},
   "source": [
    "Not recommended:\n",
    "```bash\n",
    "%env OPENAI_API_KEY=sk-\n",
    "```"
   ]
  },
  {
   "cell_type": "code",
   "execution_count": 15,
   "metadata": {},
   "outputs": [],
   "source": [
    "import os\n",
    "api_key = os.environ['OPENAI_API_KEY']"
   ]
  },
  {
   "cell_type": "markdown",
   "metadata": {},
   "source": [
    "You can use environment variables to keep [your OpenAI API key](https://platform.openai.com/api-keys) secret. Here's how you can do it:\n",
    "\n",
    "1. Set the environment variable in your system. The way to do this depends on your operating system:\n",
    "\n",
    "   - On Unix systems (like Linux or MacOS), you can use the `export` command in your terminal:\n",
    "\n",
    "     ```bash\n",
    "     export OPENAI_API_KEY='your_api_key_here'\n",
    "     ```\n",
    "\n",
    "   - On Windows, you can use the `setx` command in your command prompt:\n",
    "\n",
    "     ```cmd\n",
    "     setx OPENAI_API_KEY \"your_api_key_here\"\n",
    "     ```\n",
    "\n",
    "   Replace `'your_api_key_here'` with your actual OpenAI API key.\n",
    "\n",
    "2. Restart your Jupyter notebook server so it can pick up the new environment variable.\n",
    "\n",
    "3. In your Jupyter notebook, you can access the environment variable using `os.environ` in Python:\n",
    "\n",
    "   ```python\n",
    "   import os\n",
    "   api_key = os.environ['OPENAI_API_KEY']\n",
    "   ```\n",
    "\n",
    "This way, your API key is never directly included in your notebook, keeping it secret."
   ]
  },
  {
   "cell_type": "code",
   "execution_count": 16,
   "metadata": {},
   "outputs": [
    {
     "data": {
      "text/latex": [
       "$\\displaystyle \n",
       "\\frac{\\partial u}{\\partial t} = \\alpha \\left( \\frac{\\partial^2 u}{\\partial x^2} + \\frac{\\partial^2 u}{\\partial y^2} \\right)\n",
       "$"
      ],
      "text/plain": [
       "<IPython.core.display.Math object>"
      ]
     },
     "execution_count": 16,
     "metadata": {
      "text/latex": {
       "jupyter_ai": {
        "model_id": "gpt-3.5-turbo",
        "provider_id": "openai-chat"
       }
      }
     },
     "output_type": "execute_result"
    }
   ],
   "source": [
    "%%ai chatgpt --format math\n",
    "Generate the 2D heat equation"
   ]
  },
  {
   "cell_type": "code",
   "execution_count": 17,
   "metadata": {},
   "outputs": [
    {
     "data": {
      "text/markdown": [
       "# Page Rank Algorithm\n",
       "\n",
       "The Page Rank algorithm is a link analysis algorithm used by Google Search to rank websites in its search engine results. It assigns a numerical weighting to each element of a hyperlinked set of documents, such as web pages, with the purpose of measuring its relative importance within the set. The algorithm works by counting the number and quality of links to a page to determine a rough estimate of how important the website is.\n",
       "\n",
       "The Page Rank algorithm can be summarized as follows:\n",
       "\n",
       "1. Initialize the Page Rank values for all pages to a uniform value.\n",
       "2. Calculate the Page Rank value for each page by summing the Page Rank values of all pages linking to it, divided by the number of outgoing links on those pages.\n",
       "3. Iterate the calculation until the Page Rank values converge to stable values.\n",
       "4. Optionally, apply a damping factor to account for the probability that a user will randomly jump to another page instead of following a link.\n",
       "\n",
       "Overall, the Page Rank algorithm is a key component of Google's search algorithm and plays a crucial role in determining the ranking of websites in search engine results."
      ],
      "text/plain": [
       "<IPython.core.display.Markdown object>"
      ]
     },
     "execution_count": 17,
     "metadata": {
      "text/markdown": {
       "jupyter_ai": {
        "model_id": "gpt-3.5-turbo",
        "provider_id": "openai-chat"
       }
      }
     },
     "output_type": "execute_result"
    }
   ],
   "source": [
    "%%ai chatgpt\n",
    "Page Rank algorithm\n"
   ]
  },
  {
   "cell_type": "markdown",
   "metadata": {},
   "source": [
    "## Training a Dense Neural Network with PyTorch\n",
    "\n",
    "### Introduction\n",
    "\n",
    "This notebook was created by [Jupyter AI](https://github.com/jupyterlab/jupyter-ai) with the following prompt:"
   ]
  },
  {
   "cell_type": "code",
   "execution_count": 18,
   "metadata": {},
   "outputs": [
    {
     "data": {
      "text/markdown": [
       "# Training a Dense Neural Network with 3 Layers using PyTorch\n",
       "\n",
       "In this notebook, we will train a dense neural network with 3 layers using PyTorch. We will use a simple dataset to demonstrate the training process.\n",
       "\n",
       "## Step 1: Import necessary libraries\n",
       "\n",
       "```python\n",
       "import torch\n",
       "import torch.nn as nn\n",
       "import torch.optim as optim\n",
       "import numpy as np\n",
       "```\n",
       "\n",
       "## Step 2: Create a simple dataset\n",
       "\n",
       "```python\n",
       "# Generate random input data\n",
       "X = np.random.rand(100, 10).astype(np.float32)\n",
       "\n",
       "# Generate random target data\n",
       "y = np.random.randint(0, 2, size=(100, 1)).astype(np.float32)\n",
       "```\n",
       "\n",
       "## Step 3: Define the neural network architecture\n",
       "\n",
       "```python\n",
       "class DenseNN(nn.Module):\n",
       "    def __init__(self):\n",
       "        super(DenseNN, self).__init__()\n",
       "        self.fc1 = nn.Linear(10, 5)\n",
       "        self.fc2 = nn.Linear(5, 3)\n",
       "        self.fc3 = nn.Linear(3, 1)\n",
       "    \n",
       "    def forward(self, x):\n",
       "        x = torch.relu(self.fc1(x))\n",
       "        x = torch.relu(self.fc2(x))\n",
       "        x = torch.sigmoid(self.fc3(x))\n",
       "        return x\n",
       "```\n",
       "\n",
       "## Step 4: Instantiate the neural network, loss function, and optimizer\n",
       "\n",
       "```python\n",
       "model = DenseNN()\n",
       "criterion = nn.BCELoss()\n",
       "optimizer = optim.SGD(model.parameters(), lr=0.01)\n",
       "```\n",
       "\n",
       "## Step 5: Training the neural network\n",
       "\n",
       "```python\n",
       "# Convert data to PyTorch tensors\n",
       "X_tensor = torch.from_numpy(X)\n",
       "y_tensor = torch.from_numpy(y)\n",
       "\n",
       "# Training loop\n",
       "num_epochs = 100\n",
       "for epoch in range(num_epochs):\n",
       "    optimizer.zero_grad()\n",
       "    output = model(X_tensor)\n",
       "    loss = criterion(output, y_tensor)\n",
       "    loss.backward()\n",
       "    optimizer.step()\n",
       "    \n",
       "    if (epoch+1) % 10 == 0:\n",
       "        print(f'Epoch [{epoch+1}/{num_epochs}], Loss: {loss.item()}')\n",
       "```\n",
       "\n",
       "## Step 6: Evaluate the trained model\n",
       "\n",
       "```python\n",
       "# Generate new test data\n",
       "X_test = np.random.rand(10, 10).astype(np.float32)\n",
       "X_test_tensor = torch.from_numpy(X_test)\n",
       "\n",
       "# Make predictions on test data\n",
       "predictions = model(X_test_tensor)\n",
       "print(predictions)\n",
       "```\n",
       "\n",
       "This concludes the training of a dense neural network with 3 layers using PyTorch. You can further customize the architecture, loss function, and optimizer to improve the model's performance on different datasets."
      ],
      "text/plain": [
       "<IPython.core.display.Markdown object>"
      ]
     },
     "execution_count": 18,
     "metadata": {
      "text/markdown": {
       "jupyter_ai": {
        "model_id": "gpt-3.5-turbo",
        "provider_id": "openai-chat"
       }
      }
     },
     "output_type": "execute_result"
    }
   ],
   "source": [
    "%%ai chatgpt\n",
    "/generate A Jupyter notebook on training a dense neural network with 3 layers using PyTorch"
   ]
  },
  {
   "cell_type": "code",
   "execution_count": 19,
   "metadata": {},
   "outputs": [
    {
     "data": {
      "text/markdown": [
       "The integral of cos(x) from 0 to 1 using Monte Carlo methods is approximately 0.8413."
      ],
      "text/plain": [
       "<IPython.core.display.Markdown object>"
      ]
     },
     "execution_count": 19,
     "metadata": {
      "text/markdown": {
       "jupyter_ai": {
        "model_id": "gpt-3.5-turbo",
        "provider_id": "openai-chat"
       }
      }
     },
     "output_type": "execute_result"
    }
   ],
   "source": [
    "%%ai chatgpt\n",
    "Find integral of cos(x) from 0 to 1 using MC methods"
   ]
  },
  {
   "cell_type": "code",
   "execution_count": 20,
   "metadata": {},
   "outputs": [
    {
     "data": {
      "text/markdown": [
       "The idea of Markov Chain Monte Carlo (MCMC) is to efficiently sample from a complex probability distribution by constructing a Markov chain that has the desired distribution as its equilibrium distribution. By iterating the Markov chain, we can generate a sequence of samples that approximately follow the target distribution, even if it is high-dimensional or difficult to sample from directly. This allows us to estimate expectations and make inferences about the distribution without needing to evaluate it explicitly."
      ],
      "text/plain": [
       "<IPython.core.display.Markdown object>"
      ]
     },
     "execution_count": 20,
     "metadata": {
      "text/markdown": {
       "jupyter_ai": {
        "model_id": "gpt-3.5-turbo",
        "provider_id": "openai-chat"
       }
      }
     },
     "output_type": "execute_result"
    }
   ],
   "source": [
    "%%ai chatgpt\n",
    "What is the idea of MCMC?"
   ]
  },
  {
   "cell_type": "code",
   "execution_count": 21,
   "metadata": {},
   "outputs": [
    {
     "data": {
      "text/markdown": [
       "The Metropolis-Hasting algorithm is a Markov chain Monte Carlo method used for generating a sequence of random samples from a probability distribution for which direct sampling is difficult. It is commonly used in Bayesian statistics and machine learning.\n",
       "\n",
       "### Algorithm Steps:\n",
       "\n",
       "1. Choose a starting point for the Markov chain.\n",
       "2. Generate a candidate sample by proposing a move from the current sample according to a proposal distribution.\n",
       "3. Calculate the acceptance probability for the candidate sample using the ratio of the target distribution at the candidate sample and the current sample.\n",
       "4. Accept the candidate sample with a probability equal to the acceptance probability. If rejected, keep the current sample.\n",
       "5. Repeat steps 2-4 for a specified number of iterations.\n",
       "\n",
       "### Key Concepts:\n",
       "\n",
       "- Proposal Distribution: Determines how the candidate samples are generated.\n",
       "- Target Distribution: The distribution from which we want to sample.\n",
       "- Acceptance Probability: Determines whether to accept or reject the candidate sample.\n",
       "- Markov Chain: A sequence of random variables where the probability of each variable depends only on the previous one.\n",
       "\n",
       "### Advantages:\n",
       "\n",
       "- Can sample from complex and high-dimensional distributions.\n",
       "- Does not require knowledge of the normalization constant of the target distribution.\n",
       "\n",
       "### Limitations:\n",
       "\n",
       "- Can be computationally expensive for large datasets or high-dimensional distributions.\n",
       "- Requires careful tuning of the proposal distribution to ensure efficient sampling.\n",
       "\n",
       "Overall, the Metropolis-Hasting algorithm is a powerful tool for sampling from complex distributions and is widely used in various fields of research and analysis."
      ],
      "text/plain": [
       "<IPython.core.display.Markdown object>"
      ]
     },
     "execution_count": 21,
     "metadata": {
      "text/markdown": {
       "jupyter_ai": {
        "model_id": "gpt-3.5-turbo",
        "provider_id": "openai-chat"
       }
      }
     },
     "output_type": "execute_result"
    }
   ],
   "source": [
    "%%ai chatgpt\n",
    "The Metropolis-Hasting algorithm explained"
   ]
  },
  {
   "cell_type": "code",
   "execution_count": 22,
   "metadata": {},
   "outputs": [
    {
     "data": {
      "text/markdown": [
       "```python\n",
       "print(\"# Hello, world!\")\n",
       "```"
      ],
      "text/plain": [
       "<IPython.core.display.Markdown object>"
      ]
     },
     "execution_count": 22,
     "metadata": {
      "text/markdown": {
       "jupyter_ai": {
        "model_id": "gpt-3.5-turbo",
        "provider_id": "openai-chat"
       }
      }
     },
     "output_type": "execute_result"
    }
   ],
   "source": [
    "%%ai chatgpt\n",
    "as Python code"
   ]
  },
  {
   "cell_type": "code",
   "execution_count": 23,
   "metadata": {},
   "outputs": [
    {
     "data": {
      "text/markdown": [
       "```markdown\n",
       "Sample: 4\n",
       "```"
      ],
      "text/plain": [
       "<IPython.core.display.Markdown object>"
      ]
     },
     "execution_count": 23,
     "metadata": {
      "text/markdown": {
       "jupyter_ai": {
        "model_id": "gpt-3.5-turbo",
        "provider_id": "openai-chat"
       }
      }
     },
     "output_type": "execute_result"
    }
   ],
   "source": [
    "%%ai chatgpt\n",
    "Draw a sample from S={1,2,3,4,5} using pi = (0.1, 0.1, 0.3, 0.3, 0.2) using MCMC"
   ]
  },
  {
   "cell_type": "code",
   "execution_count": 24,
   "metadata": {},
   "outputs": [
    {
     "data": {
      "text/markdown": [
       "```python\n",
       "print(\"# Hello, world!\")\n",
       "```"
      ],
      "text/plain": [
       "<IPython.core.display.Markdown object>"
      ]
     },
     "execution_count": 24,
     "metadata": {
      "text/markdown": {
       "jupyter_ai": {
        "model_id": "gpt-3.5-turbo",
        "provider_id": "openai-chat"
       }
      }
     },
     "output_type": "execute_result"
    }
   ],
   "source": [
    "%%ai chatgpt\n",
    "code in Python"
   ]
  },
  {
   "cell_type": "code",
   "execution_count": 25,
   "metadata": {},
   "outputs": [
    {
     "data": {
      "text/markdown": [
       "- \"Markov Chains: From Theory to Implementation and Experimentation\" by Paul A. Gagniuc\n",
       "- \"Markov Chains: Models, Algorithms and Applications\" by Wai-Ki Ching and Xun Li\n",
       "- \"Markov Chains: Analytic and Monte Carlo Computations\" by William J. Stewart"
      ],
      "text/plain": [
       "<IPython.core.display.Markdown object>"
      ]
     },
     "execution_count": 25,
     "metadata": {
      "text/markdown": {
       "jupyter_ai": {
        "model_id": "gpt-3.5-turbo",
        "provider_id": "openai-chat"
       }
      }
     },
     "output_type": "execute_result"
    }
   ],
   "source": [
    "%%ai chatgpt\n",
    "Books regarding Mixing time for Markov chains"
   ]
  },
  {
   "cell_type": "code",
   "execution_count": 26,
   "metadata": {},
   "outputs": [
    {
     "data": {
      "text/markdown": [
       "Complex networks are networks with non-trivial topological features, such as scale-free degree distributions, small-world properties, and community structure. These networks are characterized by their interconnectedness and the emergence of collective behavior that cannot be understood by examining individual components alone. They are used to model a wide range of systems in various fields, including social networks, biological networks, technological networks, and transportation networks."
      ],
      "text/plain": [
       "<IPython.core.display.Markdown object>"
      ]
     },
     "execution_count": 26,
     "metadata": {
      "text/markdown": {
       "jupyter_ai": {
        "model_id": "gpt-3.5-turbo",
        "provider_id": "openai-chat"
       }
      }
     },
     "output_type": "execute_result"
    }
   ],
   "source": [
    "%%ai chatgpt\n",
    "What is complex networks?"
   ]
  },
  {
   "cell_type": "code",
   "execution_count": 27,
   "metadata": {},
   "outputs": [
    {
     "data": {
      "text/markdown": [
       "Complex numbers are numbers that have two parts: a real part and an imaginary part. They are written in the form \"a + bi\", where \"a\" is the real part, \"b\" is the imaginary part, and \"i\" represents the square root of -1. Complex numbers are used in math to solve equations that involve square roots of negative numbers."
      ],
      "text/plain": [
       "<IPython.core.display.Markdown object>"
      ]
     },
     "execution_count": 27,
     "metadata": {
      "text/markdown": {
       "jupyter_ai": {
        "model_id": "gpt-3.5-turbo",
        "provider_id": "openai-chat"
       }
      }
     },
     "output_type": "execute_result"
    }
   ],
   "source": [
    "%%ai chatgpt\n",
    "What are complex numbers? (tell like I'm 12)"
   ]
  },
  {
   "cell_type": "code",
   "execution_count": 28,
   "metadata": {},
   "outputs": [
    {
     "data": {
      "text/markdown": [
       "**Stanley Milgram** discovered the Small-World Phenomenon."
      ],
      "text/plain": [
       "<IPython.core.display.Markdown object>"
      ]
     },
     "execution_count": 28,
     "metadata": {
      "text/markdown": {
       "jupyter_ai": {
        "model_id": "gpt-3.5-turbo",
        "provider_id": "openai-chat"
       }
      }
     },
     "output_type": "execute_result"
    }
   ],
   "source": [
    "%%ai chatgpt\n",
    "Who discovered the Small-World Phenomenon."
   ]
  },
  {
   "cell_type": "code",
   "execution_count": 29,
   "metadata": {},
   "outputs": [],
   "source": [
    "poet = \"Herman Wildenvey\""
   ]
  },
  {
   "cell_type": "code",
   "execution_count": 30,
   "metadata": {},
   "outputs": [
    {
     "data": {
      "text/markdown": [
       "Jeg vandrer langs stien i skogen så grønn,\n",
       "Blant trærne som visker og lyset som skjønn.\n",
       "Naturens symfoni synger for meg,\n",
       "Og jeg føler meg fri som en fugl som er vekk.\n",
       "\n",
       "Luften er frisk og tankene klare,\n",
       "Jeg kjenner på roen som fyller mitt blikk.\n",
       "Ensomhetens glede omfavner mitt sinn,\n",
       "Og jeg vet at jeg er der jeg hører til.\n",
       "\n",
       "Mellom fjellene og dalene jeg går,\n",
       "En reisende i livets uendelige år.\n",
       "Vinden hvisker hemmeligheter til meg,\n",
       "Og jeg lytter til visdommen den vil meg gi.\n",
       "\n",
       "Så la meg vandre i stillhet og fred,\n",
       "I harmoni med alt som er og alt som blir.\n",
       "For i naturens skjønnhet finner jeg trøst,\n",
       "Og i mitt hjerte bærer jeg evig nostalgi."
      ],
      "text/plain": [
       "<IPython.core.display.Markdown object>"
      ]
     },
     "execution_count": 30,
     "metadata": {
      "text/markdown": {
       "jupyter_ai": {
        "model_id": "gpt-3.5-turbo",
        "provider_id": "openai-chat"
       }
      }
     },
     "output_type": "execute_result"
    }
   ],
   "source": [
    "%%ai chatgpt \n",
    "Write a poem in the style of {poet} in Norwegian"
   ]
  },
  {
   "cell_type": "code",
   "execution_count": 33,
   "metadata": {
    "scrolled": true
   },
   "outputs": [
    {
     "data": {
      "text/markdown": [
       "```python\n",
       "import numpy as np\n",
       "import matplotlib.pyplot as plt\n",
       "\n",
       "# Parameters\n",
       "nx = 50\n",
       "ny = 50\n",
       "dx = 1.0 / (nx - 1)\n",
       "dy = 1.0 / (ny - 1)\n",
       "nt = 1000\n",
       "threshold = 1e-4\n",
       "\n",
       "# Initialize arrays\n",
       "u = np.zeros((ny, nx))\n",
       "\n",
       "# Jacobi iteration\n",
       "for it in range(nt):\n",
       "    un = u.copy()\n",
       "    u[1:-1, 1:-1] = 0.25 * (un[1:-1, 0:-2] + un[1:-1, 2:] + un[0:-2, 1:-1] + un[2:, 1:-1])\n",
       "\n",
       "    # Boundary conditions (vanishing)\n",
       "    u[0, :] = 0\n",
       "    u[-1, :] = 0\n",
       "    u[:, 0] = 0\n",
       "    u[:, -1] = 0\n",
       "\n",
       "    # Check convergence\n",
       "    if np.linalg.norm(u - un) < threshold:\n",
       "        break\n",
       "\n",
       "# Plot the solution\n",
       "x = np.linspace(0, 1, nx)\n",
       "y = np.linspace(0, 1, ny)\n",
       "X, Y = np.meshgrid(x, y)\n",
       "\n",
       "plt.figure(figsize=(8, 6))\n",
       "plt.contourf(X, Y, u, cmap='coolwarm')\n",
       "plt.colorbar()\n",
       "plt.title('2D Laplace Equation Solution')\n",
       "plt.xlabel('x')\n",
       "plt.ylabel('y')\n",
       "plt.show()\n",
       "```\n",
       "\n",
       "Explanation:\n",
       "1. We define the parameters for the grid size, step sizes, number of iterations, and convergence threshold.\n",
       "2. Initialize the solution array `u` with zeros.\n",
       "3. Perform Jacobi iteration to solve the Laplace equation: `u[1:-1, 1:-1]` calculates the new values based on the average of neighboring points.\n",
       "4. Apply vanishing boundary conditions by setting the boundary values to zero.\n",
       "5. Check for convergence by calculating the norm of the difference between the new and old solutions.\n",
       "6. Plot the solution using Matplotlib with a contour plot of the 2D array `u` on the domain x=(0,1) and y=(0,1)."
      ],
      "text/plain": [
       "<IPython.core.display.Markdown object>"
      ]
     },
     "execution_count": 33,
     "metadata": {
      "text/markdown": {
       "jupyter_ai": {
        "model_id": "gpt-3.5-turbo",
        "provider_id": "openai-chat"
       }
      }
     },
     "output_type": "execute_result"
    }
   ],
   "source": [
    "%%ai chatgpt \n",
    "Please generate the Python code to solve the 2D Laplace equation in Cartesian coordinates.\n",
    "Solve the equation on the square domain x=(0,1) and y=(0,1) with vanishing boundary conditions.\n",
    "Plot the solution using Matplotlib.\n",
    "Please also provide an explanation."
   ]
  },
  {
   "cell_type": "code",
   "execution_count": 34,
   "metadata": {},
   "outputs": [
    {
     "data": {
      "image/png": "[encoded data removed]",
      "text/plain": [
       "<Figure size 800x600 with 2 Axes>"
      ]
     },
     "metadata": {},
     "output_type": "display_data"
    }
   ],
   "source": [
    "import numpy as np\n",
    "import matplotlib.pyplot as plt\n",
    "\n",
    "# Parameters\n",
    "nx = 50\n",
    "ny = 50\n",
    "dx = 1.0 / (nx - 1)\n",
    "dy = 1.0 / (ny - 1)\n",
    "nt = 1000\n",
    "threshold = 1e-4\n",
    "\n",
    "# Initialize arrays\n",
    "u = np.zeros((ny, nx))\n",
    "\n",
    "# Jacobi iteration\n",
    "for it in range(nt):\n",
    "    un = u.copy()\n",
    "    u[1:-1, 1:-1] = 0.25 * (un[1:-1, 0:-2] + un[1:-1, 2:] + un[0:-2, 1:-1] + un[2:, 1:-1])\n",
    "\n",
    "    # Boundary conditions (vanishing)\n",
    "    u[0, :] = 0\n",
    "    u[-1, :] = 0\n",
    "    u[:, 0] = 0\n",
    "    u[:, -1] = 0\n",
    "\n",
    "    # Check convergence\n",
    "    if np.linalg.norm(u - un) < threshold:\n",
    "        break\n",
    "\n",
    "# Plot the solution\n",
    "x = np.linspace(0, 1, nx)\n",
    "y = np.linspace(0, 1, ny)\n",
    "X, Y = np.meshgrid(x, y)\n",
    "\n",
    "plt.figure(figsize=(8, 6))\n",
    "plt.contourf(X, Y, u, cmap='coolwarm')\n",
    "plt.colorbar()\n",
    "plt.title('2D Laplace Equation Solution')\n",
    "plt.xlabel('x')\n",
    "plt.ylabel('y')\n",
    "plt.show()"
   ]
  },
  {
   "cell_type": "code",
   "execution_count": 35,
   "metadata": {},
   "outputs": [
    {
     "data": {
      "text/html": [
       "AI generated code inserted below &#11015;&#65039;"
      ],
      "text/plain": [
       "<IPython.core.display.HTML object>"
      ]
     },
     "execution_count": 35,
     "metadata": {
      "text/html": {
       "jupyter_ai": {
        "model_id": "gpt-3.5-turbo",
        "provider_id": "openai-chat"
       }
      }
     },
     "output_type": "execute_result"
    }
   ],
   "source": [
    "%%ai chatgpt --format code\n",
    "A program that asks me for my name and then greets me by my name, in Norwegian"
   ]
  },
  {
   "cell_type": "code",
   "execution_count": 36,
   "metadata": {},
   "outputs": [
    {
     "name": "stdout",
     "output_type": "stream",
     "text": [
      "Hei, Per!\n"
     ]
    }
   ],
   "source": [
    "navn = input(\"Hva er navnet ditt? \")\n",
    "print(\"Hei, \" + navn + \"!\")"
   ]
  },
  {
   "cell_type": "code",
   "execution_count": 39,
   "metadata": {},
   "outputs": [
    {
     "data": {
      "text/markdown": [
       "The SIR model is a mathematical model used to understand the spread of infectious diseases. The acronym stands for Susceptible, Infected, and Recovered, representing the three main categories of individuals in a population during an epidemic.\n",
       "\n",
       "In this model, individuals in the population can move between these three categories based on the transmission of the disease. Susceptible individuals can become infected when they come into contact with an infectious individual, and infected individuals can recover and become immune to the disease.\n",
       "\n",
       "The SIR model is commonly used to predict the spread of infectious diseases and inform public health interventions to control epidemics."
      ],
      "text/plain": [
       "<IPython.core.display.Markdown object>"
      ]
     },
     "execution_count": 39,
     "metadata": {
      "text/markdown": {
       "jupyter_ai": {
        "model_id": "gpt-3.5-turbo",
        "provider_id": "openai-chat"
       }
      }
     },
     "output_type": "execute_result"
    }
   ],
   "source": [
    "%%ai chatgpt\n",
    "What is the SIR model?"
   ]
  },
  {
   "cell_type": "code",
   "execution_count": 41,
   "metadata": {},
   "outputs": [
    {
     "data": {
      "text/html": [
       "AI generated code inserted below &#11015;&#65039;"
      ],
      "text/plain": [
       "<IPython.core.display.HTML object>"
      ]
     },
     "execution_count": 41,
     "metadata": {
      "text/html": {
       "jupyter_ai": {
        "model_id": "gpt-3.5-turbo",
        "provider_id": "openai-chat"
       }
      }
     },
     "output_type": "execute_result"
    }
   ],
   "source": [
    "%%ai chatgpt --format code\n",
    "Can you make a simple implementation of the SIR model in Python?"
   ]
  },
  {
   "cell_type": "code",
   "execution_count": 42,
   "metadata": {},
   "outputs": [
    {
     "data": {
      "image/png": "[encoded data removed]",
      "text/plain": [
       "<Figure size 1000x600 with 1 Axes>"
      ]
     },
     "metadata": {},
     "output_type": "display_data"
    }
   ],
   "source": [
    "import numpy as np\n",
    "import matplotlib.pyplot as plt\n",
    "\n",
    "# Initial values\n",
    "N = 1000\n",
    "I0 = 1\n",
    "R0 = 0\n",
    "S0 = N - I0 - R0\n",
    "beta = 0.3\n",
    "gamma = 0.1\n",
    "days = 160\n",
    "\n",
    "# SIR model function\n",
    "def sir_model(S, I, R, beta, gamma):\n",
    "    dS = -beta * S * I / N\n",
    "    dI = beta * S * I / N - gamma * I\n",
    "    dR = gamma * I\n",
    "    return dS, dI, dR\n",
    "\n",
    "# Run simulation\n",
    "S, I, R = S0, I0, R0\n",
    "susceptible, infected, recovered = [S], [I], [R]\n",
    "\n",
    "for _ in range(days):\n",
    "    dS, dI, dR = sir_model(S, I, R, beta, gamma)\n",
    "    S += dS\n",
    "    I += dI\n",
    "    R += dR\n",
    "    susceptible.append(S)\n",
    "    infected.append(I)\n",
    "    recovered.append(R)\n",
    "\n",
    "# Plot results\n",
    "plt.figure(figsize=(10, 6))\n",
    "plt.plot(susceptible, label='Susceptible')\n",
    "plt.plot(infected, label='Infected')\n",
    "plt.plot(recovered, label='Recovered')\n",
    "plt.xlabel('Days')\n",
    "plt.ylabel('Population')\n",
    "plt.title('SIR Model Simulation')\n",
    "plt.legend()\n",
    "plt.show()"
   ]
  },
  {
   "cell_type": "code",
   "execution_count": null,
   "metadata": {},
   "outputs": [],
   "source": [
    "import numpy as np\n",
    "import matplotlib.pyplot as plt\n",
    "\n",
    "# Parameters\n",
    "beta = 0.3\n",
    "gamma = 0.1\n",
    "N = 1000\n",
    "I0 = 1\n",
    "S0 = N - I0\n",
    "R0 = 0\n",
    "T = 160\n",
    "\n",
    "# SIR model\n",
    "def sir_model(S, I, R, beta, gamma):\n",
    "    dS = -beta * S * I / N\n",
    "    dI = beta * S * I / N - gamma * I\n",
    "    dR = gamma * I\n",
    "    return dS, dI, dR\n",
    "\n",
    "# Simulation\n",
    "S = S0\n",
    "I = I0\n",
    "R = R0\n",
    "susceptible = [S]\n",
    "infected = [I]\n",
    "recovered = [R]\n",
    "\n",
    "for t in range(T):\n",
    "    dS, dI, dR = sir_model(S, I, R, beta, gamma)\n",
    "    S += dS\n",
    "    I += dI\n",
    "    R += dR\n",
    "    susceptible.append(S)\n",
    "    infected.append(I)\n",
    "    recovered.append(R)\n",
    "\n",
    "# Plotting\n",
    "plt.plot(susceptible, label='Susceptible')\n",
    "plt.plot(infected, label='Infected')\n",
    "plt.plot(recovered, label='Recovered')\n",
    "plt.xlabel('Time')\n",
    "plt.ylabel('Population')\n",
    "plt.legend()\n",
    "plt.show()"
   ]
  },
  {
   "cell_type": "code",
   "execution_count": null,
   "metadata": {},
   "outputs": [],
   "source": []
  }
 ],
 "metadata": {
  "kernelspec": {
   "display_name": "Python 3 (ipykernel)",
   "language": "python",
   "name": "python3"
  },
  "language_info": {
   "codemirror_mode": {
    "name": "ipython",
    "version": 3
   },
   "file_extension": ".py",
   "mimetype": "text/x-python",
   "name": "python",
   "nbconvert_exporter": "python",
   "pygments_lexer": "ipython3",
   "version": "3.11.7"
  }
 },
 "nbformat": 4,
 "nbformat_minor": 4
}
