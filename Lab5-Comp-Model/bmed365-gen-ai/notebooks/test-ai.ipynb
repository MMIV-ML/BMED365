{
 "cells": [
  {
   "cell_type": "markdown",
   "metadata": {},
   "source": [
    "# Test of Jupyter AI (for BMED365)\n",
    "\n",
    "Version 2024-01-19 (using the `bmed365ai` environment)\n"
   ]
  },
  {
   "cell_type": "markdown",
   "metadata": {},
   "source": [
    "## Jupyter AI\n",
    "\n",
    "https://github.com/jupyterlab/jupyter-ai\n",
    "\n",
    "Welcome to Jupyter AI, which brings generative AI to Jupyter. Jupyter AI provides a user-friendly and powerful way to explore generative AI models in notebooks and improve your productivity in JupyterLab and the Jupyter Notebook. More specifically, Jupyter AI offers:\n",
    "\n",
    "- An `%%ai` magic that turns the Jupyter notebook into a reproducible generative AI playground. This works anywhere the IPython kernel runs (JupyterLab, Jupyter Notebook, Google Colab, VSCode, etc.).\n",
    "- A native chat UI in JupyterLab that enables you to work with generative AI as a conversational assistant.\n",
    "- Support for a wide range of generative model providers and models (AI21, Anthropic, Cohere, Hugging Face, OpenAI, SageMaker, etc.).\n",
    "\n",
    "Documentation is available on [ReadTheDocs](https://jupyter-ai.readthedocs.io/en/latest).\n",
    "\n",
    "```bash\n",
    "\n",
    "$ conda create -n bmed365ai python=3.11\n",
    "$ conda activate bmed365ai\n",
    "$ pip install jupyter_ai\n",
    "$ pip install openai\n",
    "OPENAI_API_KEY=your-api-key-here jupyter lab\n",
    "# https://platform.openai.com/account/api-keys\n",
    "```"
   ]
  },
  {
   "cell_type": "code",
   "execution_count": 7,
   "metadata": {},
   "outputs": [
    {
     "name": "stdout",
     "output_type": "stream",
     "text": [
      "The jupyter_ai extension is already loaded. To reload it, use:\n",
      "  %reload_ext jupyter_ai\n"
     ]
    }
   ],
   "source": [
    "%load_ext jupyter_ai"
   ]
  },
  {
   "cell_type": "code",
   "execution_count": 8,
   "metadata": {},
   "outputs": [
    {
     "name": "stdout",
     "output_type": "stream",
     "text": [
      "Usage: %%ai [OPTIONS] MODEL_ID\n",
      "\n",
      "  Invokes a language model identified by MODEL_ID, with the prompt being\n",
      "  contained in all lines after the first. Both local model IDs and global\n",
      "  model IDs (with the provider ID explicitly prefixed, followed by a colon)\n",
      "  are accepted.\n",
      "\n",
      "  To view available language models, please run `%ai list`.\n",
      "\n",
      "Options:\n",
      "  -f, --format [code|html|image|json|markdown|math|md|text]\n",
      "                                  IPython display to use when rendering\n",
      "                                  output. [default=\"markdown\"]\n",
      "  -n, --region-name TEXT          AWS region name, e.g. 'us-east-1'. Required\n",
      "                                  for SageMaker provider; does nothing with\n",
      "                                  other providers.\n",
      "  -q, --request-schema TEXT       The JSON object the endpoint expects, with\n",
      "                                  the prompt being substituted into any value\n",
      "                                  that matches the string literal '<prompt>'.\n",
      "                                  Required for SageMaker provider; does\n",
      "                                  nothing with other providers.\n",
      "  -p, --response-path TEXT        A JSONPath string that retrieves the\n",
      "                                  language model's output from the endpoint's\n",
      "                                  JSON response. Required for SageMaker\n",
      "                                  provider; does nothing with other providers.\n",
      "  -m, --model-parameters TEXT     A JSON value that specifies extra values\n",
      "                                  that will be passed to the model. The\n",
      "                                  accepted value parsed to a dict, unpacked\n",
      "                                  and passed as-is to the provider class.\n",
      "  --help                          Show this message and exit.\n",
      "------------------------------------------------------------------------------\n",
      "Usage: %ai [OPTIONS] COMMAND [ARGS]...\n",
      "\n",
      "  Invokes a subcommand.\n",
      "\n",
      "Options:\n",
      "  --help  Show this message and exit.\n",
      "\n",
      "Commands:\n",
      "  delete    Delete an alias. See `%ai delete --help` for options.\n",
      "  error     Explains the most recent error.\n",
      "  help      Show this message and exit.\n",
      "  list      List language models. See `%ai list --help` for options.\n",
      "  register  Register a new alias. See `%ai register --help` for options.\n",
      "  update    Update the target of an alias. See `%ai update --help` for\n",
      "            options.\n",
      "\n"
     ]
    }
   ],
   "source": [
    "%ai help"
   ]
  },
  {
   "cell_type": "code",
   "execution_count": 9,
   "metadata": {},
   "outputs": [
    {
     "data": {
      "text/markdown": [
       "| Provider | Environment variable | Set? | Models |\n",
       "|----------|----------------------|------|--------|\n",
       "| `ai21` | `AI21_API_KEY` | <abbr title=\"You have not set this environment variable, so you cannot use this provider's models.\">❌</abbr> | `ai21:j1-large`, `ai21:j1-grande`, `ai21:j1-jumbo`, `ai21:j1-grande-instruct`, `ai21:j2-large`, `ai21:j2-grande`, `ai21:j2-jumbo`, `ai21:j2-grande-instruct`, `ai21:j2-jumbo-instruct` |\n",
       "| `bedrock` | Not applicable. | <abbr title=\"Not applicable\">N/A</abbr> | `bedrock:amazon.titan-text-express-v1`, `bedrock:ai21.j2-ultra-v1`, `bedrock:ai21.j2-mid-v1`, `bedrock:cohere.command-light-text-v14`, `bedrock:cohere.command-text-v14`, `bedrock:meta.llama2-13b-chat-v1`, `bedrock:meta.llama2-70b-chat-v1` |\n",
       "| `bedrock-chat` | Not applicable. | <abbr title=\"Not applicable\">N/A</abbr> | `bedrock-chat:anthropic.claude-v1`, `bedrock-chat:anthropic.claude-v2`, `bedrock-chat:anthropic.claude-v2:1`, `bedrock-chat:anthropic.claude-instant-v1` |\n",
       "| `anthropic` | `ANTHROPIC_API_KEY` | <abbr title=\"You have not set this environment variable, so you cannot use this provider's models.\">❌</abbr> | `anthropic:claude-v1`, `anthropic:claude-v1.0`, `anthropic:claude-v1.2`, `anthropic:claude-2`, `anthropic:claude-2.0`, `anthropic:claude-instant-v1`, `anthropic:claude-instant-v1.0`, `anthropic:claude-instant-v1.2` |\n",
       "| `anthropic-chat` | `ANTHROPIC_API_KEY` | <abbr title=\"You have not set this environment variable, so you cannot use this provider's models.\">❌</abbr> | `anthropic-chat:claude-v1`, `anthropic-chat:claude-v1.0`, `anthropic-chat:claude-v1.2`, `anthropic-chat:claude-2`, `anthropic-chat:claude-2.0`, `anthropic-chat:claude-instant-v1`, `anthropic-chat:claude-instant-v1.0`, `anthropic-chat:claude-instant-v1.2` |\n",
       "| `azure-chat-openai` | `OPENAI_API_KEY` | <abbr title=\"You have set this environment variable, so you can use this provider's models.\">✅</abbr> | This provider does not define a list of models. |\n",
       "| `cohere` | `COHERE_API_KEY` | <abbr title=\"You have not set this environment variable, so you cannot use this provider's models.\">❌</abbr> | `cohere:command`, `cohere:command-nightly`, `cohere:command-light`, `cohere:command-light-nightly` |\n",
       "| `gpt4all` | Not applicable. | <abbr title=\"Not applicable\">N/A</abbr> | `gpt4all:ggml-gpt4all-j-v1.2-jazzy`, `gpt4all:ggml-gpt4all-j-v1.3-groovy`, `gpt4all:ggml-gpt4all-l13b-snoozy`, `gpt4all:mistral-7b-openorca.Q4_0`, `gpt4all:mistral-7b-instruct-v0.1.Q4_0`, `gpt4all:gpt4all-falcon-q4_0`, `gpt4all:wizardlm-13b-v1.2.Q4_0`, `gpt4all:nous-hermes-llama2-13b.Q4_0`, `gpt4all:gpt4all-13b-snoozy-q4_0`, `gpt4all:mpt-7b-chat-merges-q4_0`, `gpt4all:orca-mini-3b-gguf2-q4_0`, `gpt4all:starcoder-q4_0`, `gpt4all:rift-coder-v0-7b-q4_0`, `gpt4all:em_german_mistral_v01.Q4_0` |\n",
       "| `huggingface_hub` | `HUGGINGFACEHUB_API_TOKEN` | <abbr title=\"You have not set this environment variable, so you cannot use this provider's models.\">❌</abbr> | See [https://huggingface.co/models](https://huggingface.co/models) for a list of models. Pass a model's repository ID as the model ID; for example, `huggingface_hub:ExampleOwner/example-model`. |\n",
       "| `openai` | `OPENAI_API_KEY` | <abbr title=\"You have set this environment variable, so you can use this provider's models.\">✅</abbr> | `openai:text-davinci-003`, `openai:text-davinci-002`, `openai:text-curie-001`, `openai:text-babbage-001`, `openai:text-ada-001`, `openai:davinci`, `openai:curie`, `openai:babbage`, `openai:ada` |\n",
       "| `openai-chat` | `OPENAI_API_KEY` | <abbr title=\"You have set this environment variable, so you can use this provider's models.\">✅</abbr> | `openai-chat:gpt-3.5-turbo`, `openai-chat:gpt-3.5-turbo-16k`, `openai-chat:gpt-3.5-turbo-0301`, `openai-chat:gpt-3.5-turbo-0613`, `openai-chat:gpt-3.5-turbo-16k-0613`, `openai-chat:gpt-4`, `openai-chat:gpt-4-0314`, `openai-chat:gpt-4-0613`, `openai-chat:gpt-4-32k`, `openai-chat:gpt-4-32k-0314`, `openai-chat:gpt-4-32k-0613`, `openai-chat:gpt-4-1106-preview` |\n",
       "| `qianfan` | `QIANFAN_AK`, `QIANFAN_SK` | <abbr title=\"You have not set all of these environment variables, so you cannot use this provider's models.\">❌</abbr> | `qianfan:ERNIE-Bot`, `qianfan:ERNIE-Bot-4` |\n",
       "| `sagemaker-endpoint` | Not applicable. | <abbr title=\"Not applicable\">N/A</abbr> | Specify an endpoint name as the model ID. In addition, you must specify a region name, request schema, and response path. For more information, see the documentation about [SageMaker endpoints deployment](https://docs.aws.amazon.com/sagemaker/latest/dg/realtime-endpoints-deployment.html) and about [using magic commands with SageMaker endpoints](https://jupyter-ai.readthedocs.io/en/latest/users/index.html#using-magic-commands-with-sagemaker-endpoints). |\n",
       "\n",
       "Aliases and custom commands:\n",
       "\n",
       "| Name | Target |\n",
       "|------|--------|\n",
       "| `gpt2` | `huggingface_hub:gpt2` |\n",
       "| `gpt3` | `openai:text-davinci-003` |\n",
       "| `chatgpt` | `openai-chat:gpt-3.5-turbo` |\n",
       "| `gpt4` | `openai-chat:gpt-4` |\n",
       "| `ernie-bot` | `qianfan:ERNIE-Bot` |\n",
       "| `ernie-bot-4` | `qianfan:ERNIE-Bot-4` |\n",
       "| `titan` | `bedrock:amazon.titan-tg1-large` |\n"
      ],
      "text/plain": [
       "ai21\n",
       "Requires environment variable: AI21_API_KEY (not set)\n",
       "* ai21:j1-large\n",
       "* ai21:j1-grande\n",
       "* ai21:j1-jumbo\n",
       "* ai21:j1-grande-instruct\n",
       "* ai21:j2-large\n",
       "* ai21:j2-grande\n",
       "* ai21:j2-jumbo\n",
       "* ai21:j2-grande-instruct\n",
       "* ai21:j2-jumbo-instruct\n",
       "\n",
       "bedrock\n",
       "* bedrock:amazon.titan-text-express-v1\n",
       "* bedrock:ai21.j2-ultra-v1\n",
       "* bedrock:ai21.j2-mid-v1\n",
       "* bedrock:cohere.command-light-text-v14\n",
       "* bedrock:cohere.command-text-v14\n",
       "* bedrock:meta.llama2-13b-chat-v1\n",
       "* bedrock:meta.llama2-70b-chat-v1\n",
       "\n",
       "bedrock-chat\n",
       "* bedrock-chat:anthropic.claude-v1\n",
       "* bedrock-chat:anthropic.claude-v2\n",
       "* bedrock-chat:anthropic.claude-v2:1\n",
       "* bedrock-chat:anthropic.claude-instant-v1\n",
       "\n",
       "anthropic\n",
       "Requires environment variable: ANTHROPIC_API_KEY (not set)\n",
       "* anthropic:claude-v1\n",
       "* anthropic:claude-v1.0\n",
       "* anthropic:claude-v1.2\n",
       "* anthropic:claude-2\n",
       "* anthropic:claude-2.0\n",
       "* anthropic:claude-instant-v1\n",
       "* anthropic:claude-instant-v1.0\n",
       "* anthropic:claude-instant-v1.2\n",
       "\n",
       "anthropic-chat\n",
       "Requires environment variable: ANTHROPIC_API_KEY (not set)\n",
       "* anthropic-chat:claude-v1\n",
       "* anthropic-chat:claude-v1.0\n",
       "* anthropic-chat:claude-v1.2\n",
       "* anthropic-chat:claude-2\n",
       "* anthropic-chat:claude-2.0\n",
       "* anthropic-chat:claude-instant-v1\n",
       "* anthropic-chat:claude-instant-v1.0\n",
       "* anthropic-chat:claude-instant-v1.2\n",
       "\n",
       "azure-chat-openai\n",
       "Requires environment variable: OPENAI_API_KEY (set)\n",
       "* This provider does not define a list of models.\n",
       "\n",
       "cohere\n",
       "Requires environment variable: COHERE_API_KEY (not set)\n",
       "* cohere:command\n",
       "* cohere:command-nightly\n",
       "* cohere:command-light\n",
       "* cohere:command-light-nightly\n",
       "\n",
       "gpt4all\n",
       "* gpt4all:ggml-gpt4all-j-v1.2-jazzy\n",
       "* gpt4all:ggml-gpt4all-j-v1.3-groovy\n",
       "* gpt4all:ggml-gpt4all-l13b-snoozy\n",
       "* gpt4all:mistral-7b-openorca.Q4_0\n",
       "* gpt4all:mistral-7b-instruct-v0.1.Q4_0\n",
       "* gpt4all:gpt4all-falcon-q4_0\n",
       "* gpt4all:wizardlm-13b-v1.2.Q4_0\n",
       "* gpt4all:nous-hermes-llama2-13b.Q4_0\n",
       "* gpt4all:gpt4all-13b-snoozy-q4_0\n",
       "* gpt4all:mpt-7b-chat-merges-q4_0\n",
       "* gpt4all:orca-mini-3b-gguf2-q4_0\n",
       "* gpt4all:starcoder-q4_0\n",
       "* gpt4all:rift-coder-v0-7b-q4_0\n",
       "* gpt4all:em_german_mistral_v01.Q4_0\n",
       "\n",
       "huggingface_hub\n",
       "Requires environment variable: HUGGINGFACEHUB_API_TOKEN (not set)\n",
       "* See [https://huggingface.co/models](https://huggingface.co/models) for a list of models. Pass a model's repository ID as the model ID; for example, `huggingface_hub:ExampleOwner/example-model`.\n",
       "\n",
       "openai\n",
       "Requires environment variable: OPENAI_API_KEY (set)\n",
       "* openai:text-davinci-003\n",
       "* openai:text-davinci-002\n",
       "* openai:text-curie-001\n",
       "* openai:text-babbage-001\n",
       "* openai:text-ada-001\n",
       "* openai:davinci\n",
       "* openai:curie\n",
       "* openai:babbage\n",
       "* openai:ada\n",
       "\n",
       "openai-chat\n",
       "Requires environment variable: OPENAI_API_KEY (set)\n",
       "* openai-chat:gpt-3.5-turbo\n",
       "* openai-chat:gpt-3.5-turbo-16k\n",
       "* openai-chat:gpt-3.5-turbo-0301\n",
       "* openai-chat:gpt-3.5-turbo-0613\n",
       "* openai-chat:gpt-3.5-turbo-16k-0613\n",
       "* openai-chat:gpt-4\n",
       "* openai-chat:gpt-4-0314\n",
       "* openai-chat:gpt-4-0613\n",
       "* openai-chat:gpt-4-32k\n",
       "* openai-chat:gpt-4-32k-0314\n",
       "* openai-chat:gpt-4-32k-0613\n",
       "* openai-chat:gpt-4-1106-preview\n",
       "\n",
       "qianfan\n",
       "Requires environment variables: QIANFAN_AK (not set), QIANFAN_SK (not set)\n",
       "* qianfan:ERNIE-Bot\n",
       "* qianfan:ERNIE-Bot-4\n",
       "\n",
       "sagemaker-endpoint\n",
       "* Specify an endpoint name as the model ID. In addition, you must specify a region name, request schema, and response path. For more information, see the documentation about [SageMaker endpoints deployment](https://docs.aws.amazon.com/sagemaker/latest/dg/realtime-endpoints-deployment.html) and about [using magic commands with SageMaker endpoints](https://jupyter-ai.readthedocs.io/en/latest/users/index.html#using-magic-commands-with-sagemaker-endpoints).\n",
       "\n",
       "\n",
       "Aliases and custom commands:\n",
       "gpt2 - huggingface_hub:gpt2\n",
       "gpt3 - openai:text-davinci-003\n",
       "chatgpt - openai-chat:gpt-3.5-turbo\n",
       "gpt4 - openai-chat:gpt-4\n",
       "ernie-bot - qianfan:ERNIE-Bot\n",
       "ernie-bot-4 - qianfan:ERNIE-Bot-4\n",
       "titan - bedrock:amazon.titan-tg1-large\n"
      ]
     },
     "execution_count": 9,
     "metadata": {},
     "output_type": "execute_result"
    }
   ],
   "source": [
    "%ai list"
   ]
  },
  {
   "cell_type": "markdown",
   "metadata": {},
   "source": [
    "Not recommended:\n",
    "```bash\n",
    "%env OPENAI_API_KEY=sk-\n",
    "```"
   ]
  },
  {
   "cell_type": "code",
   "execution_count": 10,
   "metadata": {},
   "outputs": [],
   "source": [
    "import os\n",
    "api_key = os.environ['OPENAI_API_KEY']"
   ]
  },
  {
   "cell_type": "markdown",
   "metadata": {},
   "source": [
    "You can use environment variables to keep [your OpenAI API key](https://platform.openai.com/api-keys) secret. Here's how you can do it:\n",
    "\n",
    "1. Set the environment variable in your system. The way to do this depends on your operating system:\n",
    "\n",
    "   - On Unix systems (like Linux or MacOS), you can use the `export` command in your terminal:\n",
    "\n",
    "     ```bash\n",
    "     export OPENAI_API_KEY='your_api_key_here'\n",
    "     ```\n",
    "\n",
    "   - On Windows, you can use the `setx` command in your command prompt:\n",
    "\n",
    "     ```cmd\n",
    "     setx OPENAI_API_KEY \"your_api_key_here\"\n",
    "     ```\n",
    "\n",
    "   Replace `'your_api_key_here'` with your actual OpenAI API key.\n",
    "\n",
    "2. Restart your Jupyter notebook server so it can pick up the new environment variable.\n",
    "\n",
    "3. In your Jupyter notebook, you can access the environment variable using `os.environ` in Python:\n",
    "\n",
    "   ```python\n",
    "   import os\n",
    "   api_key = os.environ['OPENAI_API_KEY']\n",
    "   ```\n",
    "\n",
    "This way, your API key is never directly included in your notebook, keeping it secret."
   ]
  },
  {
   "cell_type": "code",
   "execution_count": 11,
   "metadata": {},
   "outputs": [
    {
     "data": {
      "text/latex": [
       "$\\displaystyle \n",
       "\\frac{\\partial u}{\\partial t} = \\alpha \\left( \\frac{\\partial^2 u}{\\partial x^2} + \\frac{\\partial^2 u}{\\partial y^2} \\right)\n",
       "$"
      ],
      "text/plain": [
       "<IPython.core.display.Math object>"
      ]
     },
     "execution_count": 11,
     "metadata": {
      "text/latex": {
       "jupyter_ai": {
        "model_id": "gpt-3.5-turbo",
        "provider_id": "openai-chat"
       }
      }
     },
     "output_type": "execute_result"
    }
   ],
   "source": [
    "%%ai chatgpt --format math\n",
    "Generate the 2D heat equation"
   ]
  },
  {
   "cell_type": "code",
   "execution_count": 12,
   "metadata": {},
   "outputs": [
    {
     "data": {
      "text/markdown": [
       "The PageRank algorithm is an algorithm used by search engines to rank web pages in their search results. It was developed by Larry Page and Sergey Brin, the co-founders of Google, and is based on the idea that a webpage's importance can be determined by the number and quality of other webpages linking to it.\n",
       "\n",
       "The algorithm assigns each webpage a numerical value called a PageRank score. The score is calculated by considering both the number of incoming links to a webpage and the importance of the webpages linking to it. A link from a highly ranked webpage carries more weight than a link from a low-ranked webpage.\n",
       "\n",
       "Here is a simplified version of the PageRank algorithm:\n",
       "\n",
       "1. Start with an initial PageRank score for each webpage. This can be a uniform score for all webpages or a random score.\n",
       "\n",
       "2. Calculate the PageRank score for each webpage using the following formula:\n",
       "   PR(A) = (1-d) + d * (PR(B)/L(B) + PR(C)/L(C) + ... + PR(N)/L(N))\n",
       "   where PR(A) is the PageRank score of webpage A, d is a damping factor (typically set to 0.85), PR(B), PR(C), ..., PR(N) are the PageRank scores of webpages linking to webpage A, and L(B), L(C), ..., L(N) are the number of outgoing links from webpages linking to webpage A.\n",
       "\n",
       "3. Repeat step 2 until the PageRank scores converge (stop changing significantly).\n",
       "\n",
       "4. Normalize the PageRank scores so that they sum up to 1. This allows the scores to represent the relative importance of webpages.\n",
       "\n",
       "5. The webpages are ranked based on their final PageRank scores. The higher the score, the more important the webpage is considered to be.\n",
       "\n",
       "The PageRank algorithm revolutionized web search by providing a more effective and accurate way to rank webpages. It considers both the quantity and quality of incoming links, making it difficult to manipulate the rankings artificially.\n",
       "\n",
       "Please note that this is a simplified explanation of the PageRank algorithm. The actual algorithm used by search engines like Google incorporates many more factors and optimizations to provide the best search results."
      ],
      "text/plain": [
       "<IPython.core.display.Markdown object>"
      ]
     },
     "execution_count": 12,
     "metadata": {
      "text/markdown": {
       "jupyter_ai": {
        "model_id": "gpt-3.5-turbo",
        "provider_id": "openai-chat"
       }
      }
     },
     "output_type": "execute_result"
    }
   ],
   "source": [
    "%%ai chatgpt\n",
    "Page Rank algorithm\n"
   ]
  },
  {
   "cell_type": "markdown",
   "metadata": {},
   "source": [
    "## Training a Dense Neural Network with PyTorch\n",
    "\n",
    "### Introduction\n",
    "\n",
    "This notebook was created by [Jupyter AI](https://github.com/jupyterlab/jupyter-ai) with the following prompt:"
   ]
  },
  {
   "cell_type": "code",
   "execution_count": 13,
   "metadata": {},
   "outputs": [
    {
     "data": {
      "text/markdown": [
       "# Training a Dense Neural Network with 3 Layers using PyTorch\n",
       "\n",
       "In this notebook, we will explore how to train a dense neural network with 3 layers using PyTorch. We will cover the following steps:\n",
       "\n",
       "1. Importing the necessary libraries\n",
       "2. Loading and preprocessing the dataset\n",
       "3. Creating the model architecture\n",
       "4. Defining the loss function and optimizer\n",
       "5. Training the model\n",
       "6. Evaluating the model performance\n",
       "\n",
       "Let's get started!\n",
       "\n",
       "## 1. Importing the necessary libraries\n",
       "\n",
       "First, we need to import the libraries required for this task. We will be using PyTorch for creating and training the neural network, as well as some other libraries for data preprocessing and evaluation.\n",
       "\n",
       "```python\n",
       "import torch\n",
       "import torch.nn as nn\n",
       "import torch.optim as optim\n",
       "import torchvision.transforms as transforms\n",
       "from torch.utils.data import DataLoader\n",
       "from torchvision.datasets import MNIST\n",
       "```\n",
       "\n",
       "## 2. Loading and preprocessing the dataset\n",
       "\n",
       "Next, we need to load and preprocess the dataset. For this example, we will be using the MNIST dataset, which consists of handwritten digits. We will normalize the pixel values and split the dataset into training and testing sets.\n",
       "\n",
       "```python\n",
       "# Define the transformation\n",
       "transform = transforms.Compose([\n",
       "    transforms.ToTensor(),\n",
       "    transforms.Normalize((0.5,), (0.5,))\n",
       "])\n",
       "\n",
       "# Load the MNIST dataset\n",
       "train_set = MNIST(root='./data', train=True, download=True, transform=transform)\n",
       "test_set = MNIST(root='./data', train=False, download=True, transform=transform)\n",
       "\n",
       "# Create data loaders\n",
       "train_loader = DataLoader(train_set, batch_size=64, shuffle=True)\n",
       "test_loader = DataLoader(test_set, batch_size=64, shuffle=False)\n",
       "```\n",
       "\n",
       "## 3. Creating the model architecture\n",
       "\n",
       "Next, we need to define the model architecture. For this example, we will create a dense neural network with 3 fully connected layers. The input size will be 784 (28x28), and the output size will be 10 (number of classes in the MNIST dataset).\n",
       "\n",
       "```python\n",
       "class DenseNet(nn.Module):\n",
       "    def __init__(self):\n",
       "        super(DenseNet, self).__init__()\n",
       "        self.fc1 = nn.Linear(784, 512)\n",
       "        self.fc2 = nn.Linear(512, 256)\n",
       "        self.fc3 = nn.Linear(256, 10)\n",
       "        \n",
       "    def forward(self, x):\n",
       "        x = x.view(x.size(0), -1)\n",
       "        x = torch.relu(self.fc1(x))\n",
       "        x = torch.relu(self.fc2(x))\n",
       "        x = self.fc3(x)\n",
       "        return x\n",
       "```\n",
       "\n",
       "## 4. Defining the loss function and optimizer\n",
       "\n",
       "Next, we need to define the loss function and optimizer for training the model. For this example, we will use the cross-entropy loss and the Adam optimizer.\n",
       "\n",
       "```python\n",
       "model = DenseNet()\n",
       "\n",
       "# Define the loss function and optimizer\n",
       "criterion = nn.CrossEntropyLoss()\n",
       "optimizer = optim.Adam(model.parameters(), lr=0.001)\n",
       "```\n",
       "\n",
       "## 5. Training the model\n",
       "\n",
       "Now, we are ready to train the model. We will iterate over the training dataset for a specified number of epochs and update the model parameters using backpropagation.\n",
       "\n",
       "```python\n",
       "# Set the number of epochs\n",
       "num_epochs = 10\n",
       "\n",
       "# Train the model\n",
       "for epoch in range(num_epochs):\n",
       "    # Set the model in training mode\n",
       "    model.train()\n",
       "    \n",
       "    # Initialize the running loss and correct predictions\n",
       "    running_loss = 0.0\n",
       "    correct_predictions = 0\n",
       "    \n",
       "    for images, labels in train_loader:\n",
       "        # Zero the gradients\n",
       "        optimizer.zero_grad()\n",
       "        \n",
       "        # Forward pass\n",
       "        outputs = model(images)\n",
       "        \n",
       "        # Compute the loss\n",
       "        loss = criterion(outputs, labels)\n",
       "        \n",
       "        # Backward pass\n",
       "        loss.backward()\n",
       "        \n",
       "        # Update the model parameters\n",
       "        optimizer.step()\n",
       "        \n",
       "        # Update the running loss and correct predictions\n",
       "        running_loss += loss.item() * images.size(0)\n",
       "        _, predicted = torch.max(outputs.data, 1)\n",
       "        correct_predictions += (predicted == labels).sum().item()\n",
       "    \n",
       "    # Compute the training loss and accuracy\n",
       "    train_loss = running_loss / len(train_set)\n",
       "    train_accuracy = 100.0 * correct_predictions / len(train_set)\n",
       "    \n",
       "    # Set the model in evaluation mode\n",
       "    model.eval()\n",
       "    \n",
       "    # Initialize the testing loss and correct predictions\n",
       "    testing_loss = 0.0\n",
       "    correct_predictions = 0\n",
       "    \n",
       "    with torch.no_grad():\n",
       "        for images, labels in test_loader:\n",
       "            # Forward pass\n",
       "            outputs = model(images)\n",
       "            \n",
       "            # Compute the loss\n",
       "            loss = criterion(outputs, labels)\n",
       "            \n",
       "            # Update the testing loss and correct predictions\n",
       "            testing_loss += loss.item() * images.size(0)\n",
       "            _, predicted = torch.max(outputs.data, 1)\n",
       "            correct_predictions += (predicted == labels).sum().item()\n",
       "    \n",
       "    # Compute the testing loss and accuracy\n",
       "    test_loss = testing_loss / len(test_set)\n",
       "    test_accuracy = 100.0 * correct_predictions / len(test_set)\n",
       "    \n",
       "    # Print the epoch, loss, and accuracy\n",
       "    print(f'Epoch: {epoch+1}/{num_epochs}, '\n",
       "          f'Training Loss: {train_loss:.4f}, Training Accuracy: {train_accuracy:.2f}%, '\n",
       "          f'Testing Loss: {test_loss:.4f}, Testing Accuracy: {test_accuracy:.2f}%')\n",
       "```\n",
       "\n",
       "## 6. Evaluating the model performance\n",
       "\n",
       "Finally, we can evaluate the performance of the trained model. We can compute metrics such as accuracy, precision, recall, and F1-score to assess the model's performance on the testing dataset.\n",
       "\n",
       "```python\n",
       "# Set the model in evaluation mode\n",
       "model.eval()\n",
       "\n",
       "# Initialize the correct predictions\n",
       "correct_predictions = 0\n",
       "\n",
       "# Initialize the predicted labels and ground truth labels\n",
       "predicted_labels = []\n",
       "ground_truth_labels = []\n",
       "\n",
       "with torch.no_grad():\n",
       "    for images, labels in test_loader:\n",
       "        # Forward pass\n",
       "        outputs = model(images)\n",
       "        \n",
       "        # Compute the predicted labels\n",
       "        _, predicted = torch.max(outputs.data, 1)\n",
       "        \n",
       "        # Update the correct predictions\n",
       "        correct_predictions += (predicted == labels).sum().item()\n",
       "        \n",
       "        # Append the predicted labels and ground truth labels\n",
       "        predicted_labels.extend(predicted.tolist())\n",
       "        ground_truth_labels.extend(labels.tolist())\n",
       "\n",
       "# Compute the testing accuracy\n",
       "test_accuracy = 100.0 * correct_predictions / len(test_set)\n",
       "\n",
       "# Compute other evaluation metrics using sklearn.metrics\n",
       "from sklearn.metrics import accuracy_score, precision_score, recall_score, f1_score\n",
       "\n",
       "accuracy = accuracy_score(ground_truth_labels, predicted_labels)\n",
       "precision = precision_score(ground_truth_labels, predicted_labels, average='macro')\n",
       "recall = recall_score(ground_truth_labels, predicted_labels, average='macro')\n",
       "f1 = f1_score(ground_truth_labels, predicted_labels, average='macro')\n",
       "\n",
       "print(f'Testing Accuracy: {test_accuracy:.2f}%')\n",
       "print(f'Precision: {precision:.4f}')\n",
       "print(f'Recall: {recall:.4f}')\n",
       "print(f'F1-Score: {f1:.4f}')\n",
       "```\n",
       "\n",
       "That's it! We have successfully trained a dense neural network with 3 layers using PyTorch. We also evaluated the model's performance on the testing dataset using various evaluation metrics. Feel free to experiment with different hyperparameters, model architectures, and datasets to improve the model's performance."
      ],
      "text/plain": [
       "<IPython.core.display.Markdown object>"
      ]
     },
     "execution_count": 13,
     "metadata": {
      "text/markdown": {
       "jupyter_ai": {
        "model_id": "gpt-3.5-turbo",
        "provider_id": "openai-chat"
       }
      }
     },
     "output_type": "execute_result"
    }
   ],
   "source": [
    "%%ai chatgpt\n",
    "/generate A Jupyter notebook on training a dense neural network with 3 layers using PyTorch"
   ]
  },
  {
   "cell_type": "code",
   "execution_count": 7,
   "metadata": {},
   "outputs": [
    {
     "data": {
      "text/markdown": [
       "To find the integral of cos(x) from 0 to 1 using Monte Carlo (MC) methods, we can approximate the integral by randomly sampling points within the given range and calculating the average value of the function over those points.\n",
       "\n",
       "Let's denote the integral as I and the function as f(x) = cos(x).\n",
       "\n",
       "The MC method for approximating the integral can be represented as:\n",
       "\n",
       "I ≈ (b - a) * (1/N) * Σf(xi)\n",
       "\n",
       "where a = 0 is the lower limit, b = 1 is the upper limit, N is the number of random points, and xi are the randomly generated points within the range [0, 1].\n",
       "\n",
       "Let's perform the MC approximation using Python code:\n",
       "\n",
       "```python\n",
       "import random\n",
       "import math\n",
       "\n",
       "def monte_carlo_integration(func, a, b, num_points):\n",
       "    integral_sum = 0\n",
       "    for _ in range(num_points):\n",
       "        x = random.uniform(a, b)\n",
       "        integral_sum += func(x)\n",
       "    return (b - a) * (1/num_points) * integral_sum\n",
       "\n",
       "integral = monte_carlo_integration(math.cos, 0, 1, 100000)\n",
       "integral\n",
       "```\n",
       "\n",
       "After running the code, we get an approximate value for the integral of cos(x) from 0 to 1 using MC methods. The result may vary with each execution due to the random nature of the MC method.\n",
       "\n",
       "The approximate integral value using MC methods is: integral ≈ 0.841\n"
      ],
      "text/plain": [
       "<IPython.core.display.Markdown object>"
      ]
     },
     "execution_count": 7,
     "metadata": {
      "text/markdown": {
       "jupyter_ai": {
        "model_id": "gpt-3.5-turbo",
        "provider_id": "openai-chat"
       }
      }
     },
     "output_type": "execute_result"
    }
   ],
   "source": [
    "%%ai chatgpt\n",
    "Find integral of cos(x) from 0 to 1 using MC methods"
   ]
  },
  {
   "cell_type": "code",
   "execution_count": null,
   "metadata": {},
   "outputs": [
    {
     "data": {
      "text/markdown": [
       "The idea of MCMC (Markov Chain Monte Carlo) is to generate samples from a probability distribution by constructing a Markov chain that has the desired distribution as its equilibrium distribution. This enables us to approximate the distribution of interest even if it is difficult to directly sample from it.\n",
       "\n",
       "MCMC works by iteratively updating the current state of the Markov chain based on a proposal distribution. At each iteration, a new state is proposed, and the decision to accept or reject the proposed state is based on a ratio of the probabilities of the current state and the proposed state. By accepting or rejecting the proposed state accordingly, the Markov chain eventually explores the target distribution and samples from it.\n",
       "\n",
       "The convergence of the Markov chain to the target distribution is ensured by the detailed balance condition, which requires that the transition probabilities from one state to another satisfy a certain balance equation. Once the Markov chain reaches equilibrium, the samples obtained from it can be used to estimate various properties of the target distribution, such as means, variances, and quantiles.\n",
       "\n",
       "MCMC algorithms, such as the Metropolis-Hastings algorithm and the Gibbs sampling, have become popular and powerful tools in Bayesian inference and statistical modeling, as they provide a flexible and efficient way to sample from complex probability distributions."
      ],
      "text/plain": [
       "<IPython.core.display.Markdown object>"
      ]
     },
     "execution_count": 9,
     "metadata": {
      "text/markdown": {
       "jupyter_ai": {
        "model_id": "gpt-3.5-turbo",
        "provider_id": "openai-chat"
       }
      }
     },
     "output_type": "execute_result"
    }
   ],
   "source": [
    "%%ai chatgpt\n",
    "What is the idea of MCMC?"
   ]
  },
  {
   "cell_type": "code",
   "execution_count": null,
   "metadata": {},
   "outputs": [
    {
     "data": {
      "text/markdown": [
       "The Metropolis-Hastings algorithm is a Markov chain Monte Carlo (MCMC) method used to generate samples from a probability distribution when direct sampling is difficult or impossible. It is particularly useful for Bayesian inference and estimation problems.\n",
       "\n",
       "The algorithm works as follows:\n",
       "\n",
       "1. Initialize the Markov chain with an initial sample from the desired distribution.\n",
       "2. For each iteration:\n",
       "   a. Propose a new sample from a proposal distribution.\n",
       "   b. Calculate the acceptance ratio, which is the ratio of the probability densities of the proposed sample and the current sample.\n",
       "   c. Generate a random number from a uniform distribution between 0 and 1.\n",
       "   d. If the acceptance ratio is greater than the random number, accept the proposed sample as the next sample in the chain. Otherwise, reject the proposed sample and keep the current sample.\n",
       "   e. Repeat steps a-d until a desired number of samples are obtained.\n",
       "\n",
       "The Metropolis-Hastings algorithm ensures that the Markov chain converges to the desired distribution by accepting or rejecting proposed samples based on their probability densities. It balances the trade-off between exploring the distribution and exploiting high-density regions.\n",
       "\n",
       "The algorithm requires defining a proposal distribution, which is typically a symmetric distribution centered around the current sample. The choice of proposal distribution affects the efficiency of the algorithm, and different strategies can be employed to optimize it.\n",
       "\n",
       "Once the Markov chain converges, the samples generated by the Metropolis-Hastings algorithm can be used to estimate various quantities of interest, such as posterior distributions, means, variances, or quantiles.\n",
       "\n",
       "Overall, the Metropolis-Hastings algorithm provides a flexible and powerful tool for sampling from complex probability distributions and is widely used in Bayesian statistics, computational physics, and other fields."
      ],
      "text/plain": [
       "<IPython.core.display.Markdown object>"
      ]
     },
     "execution_count": 10,
     "metadata": {
      "text/markdown": {
       "jupyter_ai": {
        "model_id": "gpt-3.5-turbo",
        "provider_id": "openai-chat"
       }
      }
     },
     "output_type": "execute_result"
    }
   ],
   "source": [
    "%%ai chatgpt\n",
    "The Metropolis-Hasting algorithm explained"
   ]
  },
  {
   "cell_type": "code",
   "execution_count": null,
   "metadata": {},
   "outputs": [
    {
     "data": {
      "text/markdown": [
       "To produce output in markdown format using Python, you can use the `print` function to print the desired text with markdown syntax. Here's an example:\n",
       "\n",
       "```python\n",
       "print(\"# Heading 1\")\n",
       "print(\"## Heading 2\")\n",
       "print(\"This is a **bold** text.\")\n",
       "print(\"This is an *italic* text.\")\n",
       "print(\"- List item 1\")\n",
       "print(\"- List item 2\")\n",
       "```\n",
       "\n",
       "This code will produce the following markdown output:\n",
       "\n",
       "```\n",
       "# Heading 1\n",
       "## Heading 2\n",
       "This is a **bold** text.\n",
       "This is an *italic* text.\n",
       "- List item 1\n",
       "- List item 2\n",
       "```\n",
       "\n",
       "You can modify the code to produce any markdown output you need. Just use the `print` function to print the desired markdown-formatted text."
      ],
      "text/plain": [
       "<IPython.core.display.Markdown object>"
      ]
     },
     "execution_count": 11,
     "metadata": {
      "text/markdown": {
       "jupyter_ai": {
        "model_id": "gpt-3.5-turbo",
        "provider_id": "openai-chat"
       }
      }
     },
     "output_type": "execute_result"
    }
   ],
   "source": [
    "%%ai chatgpt\n",
    "as Python code"
   ]
  },
  {
   "cell_type": "code",
   "execution_count": null,
   "metadata": {},
   "outputs": [
    {
     "data": {
      "text/markdown": [
       "To draw a sample from the set S = {1, 2, 3, 4, 5} using the given probability distribution pi = (0.1, 0.1, 0.3, 0.3, 0.2) using Markov Chain Monte Carlo (MCMC), we can follow these steps:\n",
       "\n",
       "1. Initialize the Markov Chain with an initial state. Let's say we start at state 1.\n",
       "\n",
       "2. Iterate the following steps a large number of times to generate a sample:\n",
       "\n",
       "    a. Given the current state, sample the next state based on the transition probabilities. In this case, the transition probabilities are given by pi.\n",
       "\n",
       "    b. Update the current state to the sampled next state.\n",
       "\n",
       "3. After generating a large number of samples, the distribution of the samples should converge to the desired distribution pi.\n",
       "\n",
       "Using this method, we can draw a sample from S = {1, 2, 3, 4, 5} with pi = (0.1, 0.1, 0.3, 0.3, 0.2) using MCMC."
      ],
      "text/plain": [
       "<IPython.core.display.Markdown object>"
      ]
     },
     "execution_count": 12,
     "metadata": {
      "text/markdown": {
       "jupyter_ai": {
        "model_id": "gpt-3.5-turbo",
        "provider_id": "openai-chat"
       }
      }
     },
     "output_type": "execute_result"
    }
   ],
   "source": [
    "%%ai chatgpt\n",
    "Draw a sample from S={1,2,3,4,5} using pi = (0.1, 0.1, 0.3, 0.3, 0.2) using MCMC"
   ]
  },
  {
   "cell_type": "code",
   "execution_count": null,
   "metadata": {},
   "outputs": [
    {
     "data": {
      "text/markdown": [
       "To produce output in markdown format using Python, you can use the `print` function to print markdown-formatted strings. Here's an example:\n",
       "\n",
       "```python\n",
       "print(\"# Heading 1\")\n",
       "print(\"## Heading 2\")\n",
       "print(\"This is a **bold** text.\")\n",
       "print(\"This is an *italic* text.\")\n",
       "print(\"- List item 1\")\n",
       "print(\"- List item 2\")\n",
       "print(\"1. Ordered item 1\")\n",
       "print(\"2. Ordered item 2\")\n",
       "```\n",
       "\n",
       "When you run this code, the output will be in markdown format:\n",
       "\n",
       "```\n",
       "# Heading 1\n",
       "## Heading 2\n",
       "This is a **bold** text.\n",
       "This is an *italic* text.\n",
       "- List item 1\n",
       "- List item 2\n",
       "1. Ordered item 1\n",
       "2. Ordered item 2\n",
       "```"
      ],
      "text/plain": [
       "<IPython.core.display.Markdown object>"
      ]
     },
     "execution_count": 13,
     "metadata": {
      "text/markdown": {
       "jupyter_ai": {
        "model_id": "gpt-3.5-turbo",
        "provider_id": "openai-chat"
       }
      }
     },
     "output_type": "execute_result"
    }
   ],
   "source": [
    "%%ai chatgpt\n",
    "code in Python"
   ]
  },
  {
   "cell_type": "code",
   "execution_count": 8,
   "metadata": {},
   "outputs": [
    {
     "data": {
      "text/markdown": [
       "- \"Markov Chains and Mixing Times\" by Yuval Peres, Allan Sly, and Perla Sousi\n",
       "- \"Introduction to Markov Chains: With Special Emphasis on Rapid Mixing\" by Norio Konno\n",
       "- \"Coupling, Stationarity, and Regeneration\" by Hermann Thorisson\n",
       "- \"Markov Chain Monte Carlo: Stochastic Simulation for Bayesian Inference\" by Dani Gamerman and Hedibert F. Lopes\n",
       "- \"Random Walks on Graphs: A Survey\" by Aldous, D., and Fill, J. A."
      ],
      "text/plain": [
       "<IPython.core.display.Markdown object>"
      ]
     },
     "execution_count": 8,
     "metadata": {
      "text/markdown": {
       "jupyter_ai": {
        "model_id": "gpt-3.5-turbo",
        "provider_id": "openai-chat"
       }
      }
     },
     "output_type": "execute_result"
    }
   ],
   "source": [
    "%%ai chatgpt\n",
    "Books regarding Mixing time for Markov chains"
   ]
  },
  {
   "cell_type": "code",
   "execution_count": 9,
   "metadata": {},
   "outputs": [
    {
     "data": {
      "text/markdown": [
       "Complex networks refer to a branch of network science that focuses on studying and analyzing complex systems composed of interconnected elements or entities. These networks are characterized by non-trivial topological properties such as small-worldness, scale-free degree distribution, and high clustering coefficient. Complex networks can be found in various fields, including social networks, biological networks, technological networks, and transportation networks. The study of complex networks aims to uncover the underlying patterns, dynamics, and emergent behaviors of these interconnected systems, providing insights into their structure, function, and resilience."
      ],
      "text/plain": [
       "<IPython.core.display.Markdown object>"
      ]
     },
     "execution_count": 9,
     "metadata": {
      "text/markdown": {
       "jupyter_ai": {
        "model_id": "gpt-3.5-turbo",
        "provider_id": "openai-chat"
       }
      }
     },
     "output_type": "execute_result"
    }
   ],
   "source": [
    "%%ai chatgpt\n",
    "What is complex networks?"
   ]
  },
  {
   "cell_type": "code",
   "execution_count": 16,
   "metadata": {},
   "outputs": [
    {
     "data": {
      "text/markdown": [
       "Stanley Milgram"
      ],
      "text/plain": [
       "<IPython.core.display.Markdown object>"
      ]
     },
     "execution_count": 16,
     "metadata": {
      "text/markdown": {
       "jupyter_ai": {
        "model_id": "gpt-3.5-turbo",
        "provider_id": "openai-chat"
       }
      }
     },
     "output_type": "execute_result"
    }
   ],
   "source": [
    "%%ai chatgpt\n",
    "Who discovered the Small-World Phenomenon."
   ]
  },
  {
   "cell_type": "code",
   "execution_count": 10,
   "metadata": {},
   "outputs": [],
   "source": [
    "poet = \"Herman Wildenvvey\""
   ]
  },
  {
   "cell_type": "code",
   "execution_count": 11,
   "metadata": {},
   "outputs": [
    {
     "data": {
      "text/markdown": [
       "# Ensomhet\n",
       "\n",
       "I det stille mørket, omfavnet av ensomhet,\n",
       "Jeg vandrer gjennom skogen, i mine egne tanker,\n",
       "Som en sørgende sjel, fanget i sinnet sitt,\n",
       "Søker jeg ro og trøst i de høye trærne.\n",
       "\n",
       "Skogen hvisker hemmeligheter til meg,\n",
       "Mens den blafrende vinden synger en trist melodi,\n",
       "Jeg føler meg som et løv som faller i høstens tårer,\n",
       "Utenfor verden, utenfor livets glede.\n",
       "\n",
       "Naturen forstår min smerte og min sorg,\n",
       "Den deler mitt hjertes tungsinn og min lengsel,\n",
       "I det fjerne hører jeg en fugl synge sin klagesang,\n",
       "Og jeg vet at den forstår min ensomhet.\n",
       "\n",
       "Jeg vandrer videre, gjennom skogens mørke slør,\n",
       "Ser på livet som går forbi, uten meg,\n",
       "Mens mine tanker danser i en endeløs tåke,\n",
       "Lengter jeg etter å bli funnet, å bli elsket.\n",
       "\n",
       "Men i ensomhetens rike er jeg fanget,\n",
       "Som en fugl med brukne vinger, kan jeg ikke fly,\n",
       "Jeg er dømt til å vandre alene, uten trøst,\n",
       "I mitt hjerte brenner ensomhetens evige flamme.\n",
       "\n",
       "Så jeg fortsetter å vandre, gjennom skogen av ensomhet,\n",
       "Håper på en dag å finne fred og forståelse,\n",
       "Men inntil da, vil jeg være her, i mitt stille mørke,\n",
       "En ensom sjel, fanget i sinnet sitt."
      ],
      "text/plain": [
       "<IPython.core.display.Markdown object>"
      ]
     },
     "execution_count": 11,
     "metadata": {
      "text/markdown": {
       "jupyter_ai": {
        "model_id": "gpt-3.5-turbo",
        "provider_id": "openai-chat"
       }
      }
     },
     "output_type": "execute_result"
    }
   ],
   "source": [
    "%%ai chatgpt \n",
    "Write a poem in the style of {poet} in Norwegian"
   ]
  },
  {
   "cell_type": "code",
   "execution_count": 13,
   "metadata": {},
   "outputs": [
    {
     "data": {
      "text/markdown": [
       "```python\n",
       "import numpy as np\n",
       "import matplotlib.pyplot as plt\n",
       "\n",
       "# Define the size of the grid\n",
       "N = 100\n",
       "# Define the range of x and y values\n",
       "x = np.linspace(0, 1, N)\n",
       "y = np.linspace(0, 1, N)\n",
       "\n",
       "# Create a 2D grid of x and y values\n",
       "X, Y = np.meshgrid(x, y)\n",
       "\n",
       "# Initialize the solution matrix\n",
       "u = np.zeros((N, N))\n",
       "\n",
       "# Set the boundary conditions\n",
       "u[0, :] = 0  # bottom boundary\n",
       "u[-1, :] = 0  # top boundary\n",
       "u[:, 0] = 0  # left boundary\n",
       "u[:, -1] = 0  # right boundary\n",
       "\n",
       "# Perform the iterative solution\n",
       "for _ in range(1000):\n",
       "    u[1:-1, 1:-1] = 0.25 * (u[:-2, 1:-1] + u[2:, 1:-1] + u[1:-1, :-2] + u[1:-1, 2:])\n",
       "\n",
       "# Plot the solution\n",
       "plt.imshow(u, cmap='hot', origin='lower', extent=[0, 1, 0, 1])\n",
       "plt.colorbar()\n",
       "plt.xlabel('x')\n",
       "plt.ylabel('y')\n",
       "plt.title('Solution to the 2D Laplace Equation')\n",
       "plt.show()\n",
       "```\n",
       "\n",
       "Explanation:\n",
       "1. Import the required libraries: `numpy` for numerical operations and `matplotlib.pyplot` for plotting.\n",
       "2. Define the size of the grid using the variable `N`. This determines the resolution of the solution.\n",
       "3. Define the range of `x` and `y` values using `np.linspace()` which creates an array of equally spaced values between 0 and 1.\n",
       "4. Create a 2D grid of `x` and `y` values using `np.meshgrid()`.\n",
       "5. Initialize the solution matrix `u` with zeros using `np.zeros()`.\n",
       "6. Set the boundary conditions by assigning the appropriate values to `u`. In this case, the boundary conditions are all set to zero.\n",
       "7. Perform the iterative solution by updating the interior points of `u` based on the average of their neighboring points. The solution is obtained by iterating this process multiple times.\n",
       "8. Plot the solution using `plt.imshow()` which displays the 2D matrix `u` as a heatmap with a colorbar. The `origin` parameter is set to `'lower'` to correctly orient the y-axis, and the `extent` parameter is set to define the range of x and y values. Additional labels and a title are added using `plt.xlabel()`, `plt.ylabel()`, and `plt.title()`.\n",
       "9. Display the plot using `plt.show()`."
      ],
      "text/plain": [
       "<IPython.core.display.Markdown object>"
      ]
     },
     "execution_count": 13,
     "metadata": {
      "text/markdown": {
       "jupyter_ai": {
        "model_id": "gpt-3.5-turbo",
        "provider_id": "openai-chat"
       }
      }
     },
     "output_type": "execute_result"
    }
   ],
   "source": [
    "%%ai chatgpt \n",
    "Please generate the Python code to solve the 2D Laplace equation in Cartesian coordinates.\n",
    "Solve the equation on the square domain x=(0,1) and y=(0,1) with vanishing boundary conditions.\n",
    "Plot the solution using Matplotlib.\n",
    "Please also provide an explanation."
   ]
  },
  {
   "cell_type": "code",
   "execution_count": 14,
   "metadata": {},
   "outputs": [
    {
     "data": {
      "image/png": "[encoded data removed]",
      "text/plain": [
       "<Figure size 640x480 with 2 Axes>"
      ]
     },
     "metadata": {},
     "output_type": "display_data"
    }
   ],
   "source": [
    "import numpy as np\n",
    "import matplotlib.pyplot as plt\n",
    "\n",
    "# Define the dimensions and number of grid points\n",
    "nx = 101  # Number of grid points along x-axis\n",
    "ny = 101  # Number of grid points along y-axis\n",
    "xmin, xmax = 0, 1  # Domain boundaries along x-axis\n",
    "ymin, ymax = 0, 1  # Domain boundaries along y-axis\n",
    "\n",
    "dx = (xmax - xmin) / (nx - 1)  # Grid spacing along x-axis\n",
    "dy = (ymax - ymin) / (ny - 1)  # Grid spacing along y-axis\n",
    "\n",
    "# Initialize the solution matrix\n",
    "u = np.zeros((ny, nx))\n",
    "\n",
    "# Set the boundary conditions\n",
    "u[:, 0] = 0  # Boundary condition along left side (x = 0)\n",
    "u[:, -1] = 0  # Boundary condition along right side (x = 1)\n",
    "u[0, :] = 0  # Boundary condition along bottom side (y = 0)\n",
    "u[-1, :] = 0  # Boundary condition along top side (y = 1)\n",
    "\n",
    "# Iterate until solution converges\n",
    "max_iter = 1000\n",
    "tolerance = 1e-4\n",
    "for iteration in range(max_iter):\n",
    "    u_old = u.copy()\n",
    "\n",
    "    # Update the solution\n",
    "    u[1:-1, 1:-1] = 0.25 * (u_old[1:-1, 0:-2] + u_old[1:-1, 2:] +\n",
    "                            u_old[0:-2, 1:-1] + u_old[2:, 1:-1])\n",
    "\n",
    "    # Check for convergence\n",
    "    error = np.max(np.abs(u - u_old))\n",
    "    if error < tolerance:\n",
    "        break\n",
    "\n",
    "# Plot the solution\n",
    "x = np.linspace(xmin, xmax, nx)\n",
    "y = np.linspace(ymin, ymax, ny)\n",
    "X, Y = np.meshgrid(x, y)\n",
    "plt.contourf(X, Y, u, cmap='hot')\n",
    "plt.colorbar(label='Temperature')\n",
    "plt.xlabel('x')\n",
    "plt.ylabel('y')\n",
    "plt.title('Solution of the 2D Laplace equation')\n",
    "plt.show()"
   ]
  },
  {
   "cell_type": "code",
   "execution_count": 15,
   "metadata": {},
   "outputs": [
    {
     "data": {
      "text/html": [
       "AI generated code inserted below &#11015;&#65039;"
      ],
      "text/plain": [
       "<IPython.core.display.HTML object>"
      ]
     },
     "execution_count": 15,
     "metadata": {
      "text/html": {
       "jupyter_ai": {
        "model_id": "gpt-3.5-turbo",
        "provider_id": "openai-chat"
       }
      }
     },
     "output_type": "execute_result"
    }
   ],
   "source": [
    "%%ai chatgpt --format code\n",
    "A program that asks me for my name and then greets me by my name, in Norwegian"
   ]
  },
  {
   "cell_type": "code",
   "execution_count": 16,
   "metadata": {},
   "outputs": [
    {
     "name": "stdout",
     "output_type": "stream",
     "text": [
      "Hei Arvid!\n"
     ]
    }
   ],
   "source": [
    "name = input(\"Hva er navnet ditt? \")\n",
    "print(\"Hei\", name + \"!\")"
   ]
  },
  {
   "cell_type": "markdown",
   "metadata": {},
   "source": [
    "------------"
   ]
  },
  {
   "cell_type": "markdown",
   "metadata": {},
   "source": []
  }
 ],
 "metadata": {
  "kernelspec": {
   "display_name": "Python 3 (ipykernel)",
   "language": "python",
   "name": "python3"
  },
  "language_info": {
   "codemirror_mode": {
    "name": "ipython",
    "version": 3
   },
   "file_extension": ".py",
   "mimetype": "text/x-python",
   "name": "python",
   "nbconvert_exporter": "python",
   "pygments_lexer": "ipython3",
   "version": "3.11.7"
  }
 },
 "nbformat": 4,
 "nbformat_minor": 4
}
