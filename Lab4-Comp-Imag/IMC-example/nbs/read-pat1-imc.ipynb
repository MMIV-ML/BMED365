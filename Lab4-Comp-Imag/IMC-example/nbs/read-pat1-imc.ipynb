{
 "cells": [
  {
   "cell_type": "markdown",
   "metadata": {},
   "source": [
    "# Read Patient1 IMC file\n",
    "\n",
    "version 2024-01-29 A.L."
   ]
  },
  {
   "cell_type": "code",
   "execution_count": 31,
   "metadata": {},
   "outputs": [
    {
     "name": "stdout",
     "output_type": "stream",
     "text": [
      "total 1296672\n",
      "-rw-rw-r--@ 1 arvid  staff  308296880 Nov 16  2021 Patient1.mcd\n",
      "-rw-rw-r--@ 1 arvid  staff  118532798 Nov 16  2021 Patient1_pos1_1_1.txt\n",
      "-rw-rw-r--@ 1 arvid  staff  118427612 Nov 16  2021 Patient1_pos1_2_2.txt\n",
      "-rw-rw-r--@ 1 arvid  staff  118634929 Nov 16  2021 Patient1_pos1_3_3.txt\n"
     ]
    }
   ],
   "source": [
    "!ls -l ../data"
   ]
  },
  {
   "cell_type": "code",
   "execution_count": 32,
   "metadata": {},
   "outputs": [],
   "source": [
    "from readimc import MCDFile, TXTFile"
   ]
  },
  {
   "cell_type": "code",
   "execution_count": 33,
   "metadata": {},
   "outputs": [],
   "source": [
    "mcd_fn = \"../data/Patient1.mcd\""
   ]
  },
  {
   "cell_type": "code",
   "execution_count": 34,
   "metadata": {},
   "outputs": [
    {
     "name": "stdout",
     "output_type": "stream",
     "text": [
      "Number of slides: 1\n"
     ]
    },
    {
     "data": {
      "text/plain": [
       "../data/Patient1.mcd"
      ]
     },
     "execution_count": 34,
     "metadata": {},
     "output_type": "execute_result"
    }
   ],
   "source": [
    "with MCDFile(mcd_fn) as f:\n",
    "    num_slides = len(f.slides)\n",
    "\n",
    "print(f\"Number of slides: {num_slides}\")\n",
    "f"
   ]
  },
  {
   "cell_type": "markdown",
   "metadata": {},
   "source": [
    "### Extracting metadata"
   ]
  },
  {
   "cell_type": "code",
   "execution_count": 35,
   "metadata": {},
   "outputs": [
    {
     "name": "stdout",
     "output_type": "stream",
     "text": [
      "0 Slide 75000.0 25000.0\n",
      "1 wflow2.jpg 75000.0 24910.0\n",
      "1 pos1_1 600.0 600.0 ['ArAr80', 'Y89', 'In113', 'In115', 'Xe131', 'Xe134', 'Ba136', 'La138', 'Pr141', 'Nd142', 'Nd143', 'Nd144', 'Nd145', 'Nd146', 'Sm147', 'Nd148', 'Sm149', 'Nd150', 'Eu151', 'Sm152', 'Eu153', 'Sm154', 'Gd155', 'Gd156', 'Gd158', 'Tb159', 'Gd160', 'Dy161', 'Dy162', 'Dy163', 'Dy164', 'Ho165', 'Er166', 'Er167', 'Er168', 'Tm169', 'Er170', 'Yb171', 'Yb172', 'Yb173', 'Yb174', 'Lu175', 'Yb176', 'Ir191', 'Ir193', 'Pt196', 'Pb206'] ['80ArAr', 'Myelope_276((2967))Y89', 'Histone_126((2979))In113', 'SMA_174((2780))In115', '131Xe', '134Xe', '136Ba', '138La', 'CD16_1820((2945))Pr141', 'CD38_1719((2961))Nd142', 'HLA-DR_1849((2953))Nd143', 'CD27_2231((2946))Nd144', 'CD15_627((2954))Nd145', 'CD45RA_732((2955))Nd146', 'CD163_1863((2947))Sm147', 'Beta-2M_1855((2962))Nd148', 'CD20_36((2980))Sm149', 'CD68_77((2963))Nd150', 'Indolea_2281((2981))Eu151', 'CD3_1841((2941))Sm152', 'LAG-3_1817((2982))Eu153', 'CD11c_2406((2983))Sm154', 'CD279(P_1743((2762))Gd155', 'CD140b(_1938((2948))Gd156', 'CD7_2258((2956))Gd158', 'Granzym_2215((2819))Tb159', 'CD274(B_2298((2949))Gd160', 'TCF1TCF_2221((2984))Dy161', 'CD45RO_2014((2950))Dy162', 'FOXP3_115((2942))Dy163', 'CD278(I_1815((2951))Dy164', 'CD8a_1718((2957))Ho165', 'Carboni_2443((2985))Er166', 'CD33_2237((2986))Er167', 'Ki-67_142((2965))Er168', 'VISTA_2024((2966))Tm169', 'CD40_2255((2821))Er170', 'CD4_2293((2943))Yb171', 'CD14_2275((2958))Yb172', 'E-Cadhe_103((2959))Yb173', 'CD303_2313((2952))Yb174', 'CD206(M_324((2960))Lu175', 'cleaved_198((2944))Yb176', 'DNA1', 'DNA2', '196Pt', '206Pb']\n"
     ]
    }
   ],
   "source": [
    "with MCDFile(mcd_fn) as f:\n",
    "    # first slide\n",
    "    slide = f.slides[0]\n",
    "    print(\n",
    "        slide.id,\n",
    "        slide.description,\n",
    "        slide.width_um,\n",
    "        slide.height_um,\n",
    "    )\n",
    "    # first panorama of first slide\n",
    "    panorama = slide.panoramas[0]\n",
    "    print(\n",
    "        panorama.id,\n",
    "        panorama.description,\n",
    "        panorama.width_um,\n",
    "        panorama.height_um,\n",
    "    )\n",
    "    # first acquisition of first slide\n",
    "    acquisition = slide.acquisitions[0]\n",
    "    print(\n",
    "        acquisition.id,\n",
    "        acquisition.description,\n",
    "        acquisition.width_um,\n",
    "        acquisition.height_um,\n",
    "        acquisition.channel_names,  # metals\n",
    "        acquisition.channel_labels,  # targets\n",
    "    )"
   ]
  },
  {
   "cell_type": "markdown",
   "metadata": {},
   "source": [
    "### Reading slide images\n",
    "\n",
    "IMC .mcd files can store slide images uploaded by the user (e.g., photographs) or acquired by the instrument. For supported image file formats, these images can be read as follows:"
   ]
  },
  {
   "cell_type": "code",
   "execution_count": 36,
   "metadata": {},
   "outputs": [
    {
     "name": "stdout",
     "output_type": "stream",
     "text": [
      "(793, 2389, 4) uint8\n"
     ]
    }
   ],
   "source": [
    "with MCDFile(mcd_fn) as f:\n",
    "    panorama = f.slides[0].panoramas[0]  # first panorama of first slide\n",
    "    img = f.read_panorama(panorama)  # numpy array\n",
    "\n",
    "print(img.shape, img.dtype)"
   ]
  },
  {
   "cell_type": "markdown",
   "metadata": {},
   "source": [
    "### Reading panorama images\n",
    "\n",
    "IMC .mcd files can contain zero or more panorama images acquired by the instrument, which can be read as follows:"
   ]
  },
  {
   "cell_type": "code",
   "execution_count": 37,
   "metadata": {},
   "outputs": [
    {
     "name": "stdout",
     "output_type": "stream",
     "text": [
      "(793, 2389, 4) uint8\n"
     ]
    }
   ],
   "source": [
    "with MCDFile(mcd_fn) as f:\n",
    "    panorama = f.slides[0].panoramas[0]  # first panorama of first slide\n",
    "    img = f.read_panorama(panorama)  # numpy array\n",
    "\n",
    "print(img.shape, img.dtype)"
   ]
  },
  {
   "cell_type": "markdown",
   "metadata": {},
   "source": [
    "### Reading IMC acquisitions\n",
    "\n",
    "IMC .mcd files can contain zero or more IMC acquisitions, which can be read as follows:"
   ]
  },
  {
   "cell_type": "code",
   "execution_count": 38,
   "metadata": {},
   "outputs": [
    {
     "name": "stdout",
     "output_type": "stream",
     "text": [
      "(47, 600, 600) float32\n"
     ]
    }
   ],
   "source": [
    "with MCDFile(mcd_fn) as f:\n",
    "    acquisition = f.slides[0].acquisitions[0]  # first acquisition of first slide\n",
    "    img = f.read_acquisition(acquisition)  # array, shape: (c, y, x), dtype: float32\n",
    "\n",
    "print(img.shape, img.dtype)"
   ]
  },
  {
   "cell_type": "markdown",
   "metadata": {},
   "source": [
    "### Reading before/after-ablation images\n",
    "\n",
    "The IMC instrument may be configured to acquire an optical image before/after each IMC acquisition. If available, these before/after-ablation images can be read as follows:"
   ]
  },
  {
   "cell_type": "code",
   "execution_count": 39,
   "metadata": {},
   "outputs": [
    {
     "name": "stdout",
     "output_type": "stream",
     "text": [
      "None\n",
      "None\n"
     ]
    }
   ],
   "source": [
    "with MCDFile(mcd_fn) as f:\n",
    "    acquisition = f.slides[0].acquisitions[0]  # first acquisition of first slide\n",
    "    before_ablation_img = f.read_before_ablation_image(acquisition)  # array or None\n",
    "    after_ablation_img = f.read_after_ablation_image(acquisition)  # array or None\n",
    "\n",
    "print(before_ablation_img)\n",
    "print(after_ablation_img)"
   ]
  },
  {
   "cell_type": "code",
   "execution_count": null,
   "metadata": {},
   "outputs": [],
   "source": []
  }
 ],
 "metadata": {
  "kernelspec": {
   "display_name": "bmed365imc",
   "language": "python",
   "name": "python3"
  },
  "language_info": {
   "codemirror_mode": {
    "name": "ipython",
    "version": 3
   },
   "file_extension": ".py",
   "mimetype": "text/x-python",
   "name": "python",
   "nbconvert_exporter": "python",
   "pygments_lexer": "ipython3",
   "version": "3.11.7"
  }
 },
 "nbformat": 4,
 "nbformat_minor": 2
}
